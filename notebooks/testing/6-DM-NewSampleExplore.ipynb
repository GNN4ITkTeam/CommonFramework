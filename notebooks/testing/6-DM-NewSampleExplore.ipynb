{
 "cells": [
  {
   "attachments": {},
   "cell_type": "markdown",
   "metadata": {},
   "source": [
    "# Exploring the New Sample Dataset"
   ]
  },
  {
   "cell_type": "markdown",
   "metadata": {},
   "source": [
    "**Goal**: Test the weighting and hard cut config of the data loading process"
   ]
  },
  {
   "cell_type": "code",
   "execution_count": 3,
   "metadata": {},
   "outputs": [
    {
     "name": "stderr",
     "output_type": "stream",
     "text": [
      "/global/homes/d/danieltm/.conda/envs/gnn4itk/lib/python3.9/site-packages/tqdm/auto.py:22: TqdmWarning: IProgress not found. Please update jupyter and ipywidgets. See https://ipywidgets.readthedocs.io/en/stable/user_install.html\n",
      "  from .autonotebook import tqdm as notebook_tqdm\n"
     ]
    }
   ],
   "source": [
    "%load_ext autoreload\n",
    "%autoreload 2\n",
    "\n",
    "import os\n",
    "import yaml\n",
    "import logging\n",
    "\n",
    "import numpy as np\n",
    "import pandas as pd\n",
    "import seaborn as sns\n",
    "from tqdm import tqdm\n",
    "import torch\n",
    "from torch_geometric.data import Data\n",
    "import matplotlib.pyplot as plt\n",
    "from itertools import chain\n",
    "import seaborn as sns\n",
    "\n",
    "logging.basicConfig(level=logging.INFO)"
   ]
  },
  {
   "attachments": {},
   "cell_type": "markdown",
   "metadata": {},
   "source": [
    "## Data load"
   ]
  },
  {
   "cell_type": "code",
   "execution_count": 4,
   "metadata": {},
   "outputs": [],
   "source": [
    "input_dir = \"/global/cfs/cdirs/m3443/data/ITk-upgrade/jan_files/ITKEvents4Paper2023/NewITkSamples_ttbar_test1/J101_0\"\n",
    "input_files = os.listdir(input_dir)\n",
    "input_files = sorted([os.path.join(input_dir, f) for f in input_files])"
   ]
  },
  {
   "cell_type": "code",
   "execution_count": 6,
   "metadata": {},
   "outputs": [],
   "source": [
    "cluster_file = \"/global/cfs/cdirs/m3443/data/ITk-upgrade/jan_files/ITKEvents4Paper2023/NewITkSamples_ttbar_test1/J101_0/clusters_evt1.txt\"\n",
    "particles_file = \"/global/cfs/cdirs/m3443/data/ITk-upgrade/jan_files/ITKEvents4Paper2023/NewITkSamples_ttbar_test1/J101_0/particles_evt1.txt\"\n",
    "spacepoints_file = \"/global/cfs/cdirs/m3443/data/ITk-upgrade/jan_files/ITKEvents4Paper2023/NewITkSamples_ttbar_test1/J101_0/spacepoints_evt1.txt\"\n",
    "tracks_file = \"/global/cfs/cdirs/m3443/data/ITk-upgrade/jan_files/ITKEvents4Paper2023/NewITkSamples_ttbar_test1/J101_0/tracks_evt1.txt\"\n",
    "detailed_tracks_file = \"/global/cfs/cdirs/m3443/data/ITk-upgrade/jan_files/ITKEvents4Paper2023/NewITkSamples_ttbar_test1/J101_0/detailedtracktruth_evt1.txt\"\n",
    "subevents_file = \"/global/cfs/cdirs/m3443/data/ITk-upgrade/jan_files/ITKEvents4Paper2023/NewITkSamples_ttbar_test1/J101_0/subevents_evt1.txt\""
   ]
  },
  {
   "cell_type": "code",
   "execution_count": null,
   "metadata": {},
   "outputs": [],
   "source": [
    "cluster_df = "
   ]
  },
  {
   "attachments": {},
   "cell_type": "markdown",
   "metadata": {},
   "source": [
    "## Study CSV Processed"
   ]
  },
  {
   "cell_type": "code",
   "execution_count": 13,
   "metadata": {},
   "outputs": [],
   "source": [
    "input_dir = \"/global/cfs/cdirs/m3443/data/ITk-upgrade/processed_2023paper/ttbar_correlated/feature_store/trainset\"\n",
    "example_event_id = os.listdir(input_dir)[0].split(\"-\")[0]\n",
    "particles_file = os.path.join(input_dir, example_event_id + \"-particles.csv\")\n",
    "truth_file = os.path.join(input_dir, example_event_id + \"-truth.csv\")"
   ]
  },
  {
   "cell_type": "code",
   "execution_count": 14,
   "metadata": {},
   "outputs": [],
   "source": [
    "particles = pd.read_csv(particles_file)\n",
    "truth = pd.read_csv(truth_file)"
   ]
  },
  {
   "cell_type": "code",
   "execution_count": 17,
   "metadata": {},
   "outputs": [
    {
     "data": {
      "text/plain": [
       "Index(['particle_id', 'subevent', 'barcode', 'px', 'py', 'pz', 'pt', 'eta',\n",
       "       'vx', 'vy', 'vz', 'radius', 'status', 'charge', 'pdgId', 'pass',\n",
       "       'vProdNIn', 'vProdNOut', 'vProdStatus', 'vProdBarcode', 'num_clusters'],\n",
       "      dtype='object')"
      ]
     },
     "execution_count": 17,
     "metadata": {},
     "output_type": "execute_result"
    }
   ],
   "source": [
    "particles.columns"
   ]
  },
  {
   "cell_type": "code",
   "execution_count": 16,
   "metadata": {},
   "outputs": [
    {
     "data": {
      "text/html": [
       "<div>\n",
       "<style scoped>\n",
       "    .dataframe tbody tr th:only-of-type {\n",
       "        vertical-align: middle;\n",
       "    }\n",
       "\n",
       "    .dataframe tbody tr th {\n",
       "        vertical-align: top;\n",
       "    }\n",
       "\n",
       "    .dataframe thead th {\n",
       "        text-align: right;\n",
       "    }\n",
       "</style>\n",
       "<table border=\"1\" class=\"dataframe\">\n",
       "  <thead>\n",
       "    <tr style=\"text-align: right;\">\n",
       "      <th></th>\n",
       "      <th>hit_id</th>\n",
       "      <th>x</th>\n",
       "      <th>y</th>\n",
       "      <th>z</th>\n",
       "      <th>cluster_index_1</th>\n",
       "      <th>cluster_index_2</th>\n",
       "      <th>particle_id</th>\n",
       "      <th>particle_id_1</th>\n",
       "      <th>particle_id_2</th>\n",
       "      <th>hardware</th>\n",
       "      <th>...</th>\n",
       "      <th>localDir2_2</th>\n",
       "      <th>lengthDir0_2</th>\n",
       "      <th>lengthDir1_2</th>\n",
       "      <th>lengthDir2_2</th>\n",
       "      <th>glob_eta_2</th>\n",
       "      <th>glob_phi_2</th>\n",
       "      <th>eta_angle_2</th>\n",
       "      <th>phi_angle_2</th>\n",
       "      <th>region</th>\n",
       "      <th>module_id</th>\n",
       "    </tr>\n",
       "  </thead>\n",
       "  <tbody>\n",
       "    <tr>\n",
       "      <th>0</th>\n",
       "      <td>0</td>\n",
       "      <td>-33.575</td>\n",
       "      <td>6.425</td>\n",
       "      <td>-265.00</td>\n",
       "      <td>0</td>\n",
       "      <td>-1</td>\n",
       "      <td>67340001952</td>\n",
       "      <td>67340001952</td>\n",
       "      <td>-1</td>\n",
       "      <td>PIXEL</td>\n",
       "      <td>...</td>\n",
       "      <td>-1.00</td>\n",
       "      <td>-1.0000</td>\n",
       "      <td>-1.00000</td>\n",
       "      <td>-1.0</td>\n",
       "      <td>-1.000000</td>\n",
       "      <td>-1.00000</td>\n",
       "      <td>-1.00000</td>\n",
       "      <td>-1.000000</td>\n",
       "      <td>1.0</td>\n",
       "      <td>52776558133248</td>\n",
       "    </tr>\n",
       "    <tr>\n",
       "      <th>1</th>\n",
       "      <td>1</td>\n",
       "      <td>-33.825</td>\n",
       "      <td>3.150</td>\n",
       "      <td>-265.00</td>\n",
       "      <td>1</td>\n",
       "      <td>-1</td>\n",
       "      <td>67100000681</td>\n",
       "      <td>67100000681</td>\n",
       "      <td>-1</td>\n",
       "      <td>PIXEL</td>\n",
       "      <td>...</td>\n",
       "      <td>-1.00</td>\n",
       "      <td>-1.0000</td>\n",
       "      <td>-1.00000</td>\n",
       "      <td>-1.0</td>\n",
       "      <td>-1.000000</td>\n",
       "      <td>-1.00000</td>\n",
       "      <td>-1.00000</td>\n",
       "      <td>-1.000000</td>\n",
       "      <td>1.0</td>\n",
       "      <td>52776558133248</td>\n",
       "    </tr>\n",
       "    <tr>\n",
       "      <th>2</th>\n",
       "      <td>2</td>\n",
       "      <td>-33.875</td>\n",
       "      <td>7.825</td>\n",
       "      <td>-265.00</td>\n",
       "      <td>2</td>\n",
       "      <td>-1</td>\n",
       "      <td>66530001223</td>\n",
       "      <td>66530001223</td>\n",
       "      <td>-1</td>\n",
       "      <td>PIXEL</td>\n",
       "      <td>...</td>\n",
       "      <td>-1.00</td>\n",
       "      <td>-1.0000</td>\n",
       "      <td>-1.00000</td>\n",
       "      <td>-1.0</td>\n",
       "      <td>-1.000000</td>\n",
       "      <td>-1.00000</td>\n",
       "      <td>-1.00000</td>\n",
       "      <td>-1.000000</td>\n",
       "      <td>1.0</td>\n",
       "      <td>52776558133248</td>\n",
       "    </tr>\n",
       "    <tr>\n",
       "      <th>3</th>\n",
       "      <td>3</td>\n",
       "      <td>-34.000</td>\n",
       "      <td>2.550</td>\n",
       "      <td>-265.00</td>\n",
       "      <td>3</td>\n",
       "      <td>-1</td>\n",
       "      <td>66530001434</td>\n",
       "      <td>66530001434</td>\n",
       "      <td>-1</td>\n",
       "      <td>PIXEL</td>\n",
       "      <td>...</td>\n",
       "      <td>-1.00</td>\n",
       "      <td>-1.0000</td>\n",
       "      <td>-1.00000</td>\n",
       "      <td>-1.0</td>\n",
       "      <td>-1.000000</td>\n",
       "      <td>-1.00000</td>\n",
       "      <td>-1.00000</td>\n",
       "      <td>-1.000000</td>\n",
       "      <td>1.0</td>\n",
       "      <td>52776558133248</td>\n",
       "    </tr>\n",
       "    <tr>\n",
       "      <th>4</th>\n",
       "      <td>4</td>\n",
       "      <td>-34.000</td>\n",
       "      <td>-7.400</td>\n",
       "      <td>-265.00</td>\n",
       "      <td>4</td>\n",
       "      <td>-1</td>\n",
       "      <td>66640000092</td>\n",
       "      <td>66640000092</td>\n",
       "      <td>-1</td>\n",
       "      <td>PIXEL</td>\n",
       "      <td>...</td>\n",
       "      <td>-1.00</td>\n",
       "      <td>-1.0000</td>\n",
       "      <td>-1.00000</td>\n",
       "      <td>-1.0</td>\n",
       "      <td>-1.000000</td>\n",
       "      <td>-1.00000</td>\n",
       "      <td>-1.00000</td>\n",
       "      <td>-1.000000</td>\n",
       "      <td>1.0</td>\n",
       "      <td>52776558133248</td>\n",
       "    </tr>\n",
       "    <tr>\n",
       "      <th>...</th>\n",
       "      <td>...</td>\n",
       "      <td>...</td>\n",
       "      <td>...</td>\n",
       "      <td>...</td>\n",
       "      <td>...</td>\n",
       "      <td>...</td>\n",
       "      <td>...</td>\n",
       "      <td>...</td>\n",
       "      <td>...</td>\n",
       "      <td>...</td>\n",
       "      <td>...</td>\n",
       "      <td>...</td>\n",
       "      <td>...</td>\n",
       "      <td>...</td>\n",
       "      <td>...</td>\n",
       "      <td>...</td>\n",
       "      <td>...</td>\n",
       "      <td>...</td>\n",
       "      <td>...</td>\n",
       "      <td>...</td>\n",
       "      <td>...</td>\n",
       "    </tr>\n",
       "    <tr>\n",
       "      <th>388451</th>\n",
       "      <td>387845</td>\n",
       "      <td>919.886</td>\n",
       "      <td>-111.201</td>\n",
       "      <td>2854.25</td>\n",
       "      <td>535335</td>\n",
       "      <td>535350</td>\n",
       "      <td>0</td>\n",
       "      <td>0</td>\n",
       "      <td>0</td>\n",
       "      <td>STRIP</td>\n",
       "      <td>...</td>\n",
       "      <td>0.32</td>\n",
       "      <td>59.8697</td>\n",
       "      <td>-6.03907</td>\n",
       "      <td>0.0</td>\n",
       "      <td>0.006380</td>\n",
       "      <td>1.41821</td>\n",
       "      <td>1.11585</td>\n",
       "      <td>0.006380</td>\n",
       "      <td>6.0</td>\n",
       "      <td>963713145652641792</td>\n",
       "    </tr>\n",
       "    <tr>\n",
       "      <th>388452</th>\n",
       "      <td>387846</td>\n",
       "      <td>957.169</td>\n",
       "      <td>-127.076</td>\n",
       "      <td>2854.25</td>\n",
       "      <td>535336</td>\n",
       "      <td>535349</td>\n",
       "      <td>0</td>\n",
       "      <td>0</td>\n",
       "      <td>0</td>\n",
       "      <td>STRIP</td>\n",
       "      <td>...</td>\n",
       "      <td>0.32</td>\n",
       "      <td>59.7865</td>\n",
       "      <td>-6.81369</td>\n",
       "      <td>0.0</td>\n",
       "      <td>0.006379</td>\n",
       "      <td>1.41973</td>\n",
       "      <td>1.32464</td>\n",
       "      <td>0.006379</td>\n",
       "      <td>6.0</td>\n",
       "      <td>963713145652641792</td>\n",
       "    </tr>\n",
       "    <tr>\n",
       "      <th>388453</th>\n",
       "      <td>387847</td>\n",
       "      <td>951.316</td>\n",
       "      <td>-165.305</td>\n",
       "      <td>2854.25</td>\n",
       "      <td>535338</td>\n",
       "      <td>535346</td>\n",
       "      <td>0</td>\n",
       "      <td>0</td>\n",
       "      <td>0</td>\n",
       "      <td>STRIP</td>\n",
       "      <td>...</td>\n",
       "      <td>0.32</td>\n",
       "      <td>59.4667</td>\n",
       "      <td>-9.19646</td>\n",
       "      <td>0.0</td>\n",
       "      <td>0.006379</td>\n",
       "      <td>1.41973</td>\n",
       "      <td>1.32464</td>\n",
       "      <td>0.006379</td>\n",
       "      <td>6.0</td>\n",
       "      <td>963713145652641792</td>\n",
       "    </tr>\n",
       "    <tr>\n",
       "      <th>388454</th>\n",
       "      <td>387848</td>\n",
       "      <td>919.594</td>\n",
       "      <td>-175.453</td>\n",
       "      <td>2854.25</td>\n",
       "      <td>535339</td>\n",
       "      <td>535345</td>\n",
       "      <td>0</td>\n",
       "      <td>0</td>\n",
       "      <td>0</td>\n",
       "      <td>STRIP</td>\n",
       "      <td>...</td>\n",
       "      <td>0.32</td>\n",
       "      <td>59.3168</td>\n",
       "      <td>-10.11820</td>\n",
       "      <td>0.0</td>\n",
       "      <td>0.006379</td>\n",
       "      <td>1.41973</td>\n",
       "      <td>1.32464</td>\n",
       "      <td>0.006379</td>\n",
       "      <td>6.0</td>\n",
       "      <td>963713145652641792</td>\n",
       "    </tr>\n",
       "    <tr>\n",
       "      <th>388455</th>\n",
       "      <td>387849</td>\n",
       "      <td>907.618</td>\n",
       "      <td>-173.410</td>\n",
       "      <td>2854.25</td>\n",
       "      <td>535340</td>\n",
       "      <td>535345</td>\n",
       "      <td>0</td>\n",
       "      <td>0</td>\n",
       "      <td>0</td>\n",
       "      <td>STRIP</td>\n",
       "      <td>...</td>\n",
       "      <td>0.32</td>\n",
       "      <td>59.3168</td>\n",
       "      <td>-10.11820</td>\n",
       "      <td>0.0</td>\n",
       "      <td>0.006379</td>\n",
       "      <td>1.41973</td>\n",
       "      <td>1.32464</td>\n",
       "      <td>0.006379</td>\n",
       "      <td>6.0</td>\n",
       "      <td>963713145652641792</td>\n",
       "    </tr>\n",
       "  </tbody>\n",
       "</table>\n",
       "<p>388456 rows × 54 columns</p>\n",
       "</div>"
      ],
      "text/plain": [
       "        hit_id        x        y        z  cluster_index_1  cluster_index_2  \\\n",
       "0            0  -33.575    6.425  -265.00                0               -1   \n",
       "1            1  -33.825    3.150  -265.00                1               -1   \n",
       "2            2  -33.875    7.825  -265.00                2               -1   \n",
       "3            3  -34.000    2.550  -265.00                3               -1   \n",
       "4            4  -34.000   -7.400  -265.00                4               -1   \n",
       "...        ...      ...      ...      ...              ...              ...   \n",
       "388451  387845  919.886 -111.201  2854.25           535335           535350   \n",
       "388452  387846  957.169 -127.076  2854.25           535336           535349   \n",
       "388453  387847  951.316 -165.305  2854.25           535338           535346   \n",
       "388454  387848  919.594 -175.453  2854.25           535339           535345   \n",
       "388455  387849  907.618 -173.410  2854.25           535340           535345   \n",
       "\n",
       "        particle_id  particle_id_1  particle_id_2 hardware  ...  localDir2_2  \\\n",
       "0       67340001952    67340001952             -1    PIXEL  ...        -1.00   \n",
       "1       67100000681    67100000681             -1    PIXEL  ...        -1.00   \n",
       "2       66530001223    66530001223             -1    PIXEL  ...        -1.00   \n",
       "3       66530001434    66530001434             -1    PIXEL  ...        -1.00   \n",
       "4       66640000092    66640000092             -1    PIXEL  ...        -1.00   \n",
       "...             ...            ...            ...      ...  ...          ...   \n",
       "388451            0              0              0    STRIP  ...         0.32   \n",
       "388452            0              0              0    STRIP  ...         0.32   \n",
       "388453            0              0              0    STRIP  ...         0.32   \n",
       "388454            0              0              0    STRIP  ...         0.32   \n",
       "388455            0              0              0    STRIP  ...         0.32   \n",
       "\n",
       "        lengthDir0_2  lengthDir1_2  lengthDir2_2  glob_eta_2  glob_phi_2  \\\n",
       "0            -1.0000      -1.00000          -1.0   -1.000000    -1.00000   \n",
       "1            -1.0000      -1.00000          -1.0   -1.000000    -1.00000   \n",
       "2            -1.0000      -1.00000          -1.0   -1.000000    -1.00000   \n",
       "3            -1.0000      -1.00000          -1.0   -1.000000    -1.00000   \n",
       "4            -1.0000      -1.00000          -1.0   -1.000000    -1.00000   \n",
       "...              ...           ...           ...         ...         ...   \n",
       "388451       59.8697      -6.03907           0.0    0.006380     1.41821   \n",
       "388452       59.7865      -6.81369           0.0    0.006379     1.41973   \n",
       "388453       59.4667      -9.19646           0.0    0.006379     1.41973   \n",
       "388454       59.3168     -10.11820           0.0    0.006379     1.41973   \n",
       "388455       59.3168     -10.11820           0.0    0.006379     1.41973   \n",
       "\n",
       "        eta_angle_2  phi_angle_2  region           module_id  \n",
       "0          -1.00000    -1.000000     1.0      52776558133248  \n",
       "1          -1.00000    -1.000000     1.0      52776558133248  \n",
       "2          -1.00000    -1.000000     1.0      52776558133248  \n",
       "3          -1.00000    -1.000000     1.0      52776558133248  \n",
       "4          -1.00000    -1.000000     1.0      52776558133248  \n",
       "...             ...          ...     ...                 ...  \n",
       "388451      1.11585     0.006380     6.0  963713145652641792  \n",
       "388452      1.32464     0.006379     6.0  963713145652641792  \n",
       "388453      1.32464     0.006379     6.0  963713145652641792  \n",
       "388454      1.32464     0.006379     6.0  963713145652641792  \n",
       "388455      1.32464     0.006379     6.0  963713145652641792  \n",
       "\n",
       "[388456 rows x 54 columns]"
      ]
     },
     "execution_count": 16,
     "metadata": {},
     "output_type": "execute_result"
    }
   ],
   "source": [
    "truth"
   ]
  },
  {
   "attachments": {},
   "cell_type": "markdown",
   "metadata": {},
   "source": [
    "## Study Pyg"
   ]
  },
  {
   "cell_type": "code",
   "execution_count": 4,
   "metadata": {},
   "outputs": [],
   "source": [
    "input_dir = \"/global/cfs/cdirs/m3443/data/ITk-upgrade/processed_2023paper/ttbar_correlated/feature_store/trainset\"\n",
    "example_event_id = os.listdir(input_dir)[0].split(\"-\")[0]\n",
    "graph_file = os.path.join(input_dir, example_event_id + \"-graph.pyg\")\n",
    "graph = torch.load(graph_file)"
   ]
  },
  {
   "cell_type": "code",
   "execution_count": 23,
   "metadata": {},
   "outputs": [],
   "source": [
    "input_dir = \"/global/cfs/cdirs/m3443/data/GNN4ITK/CommonFrameworkExamples/Example_1_Dev_A/feature_store/trainset\"\n",
    "example_event_id = os.listdir(input_dir)[0].split(\"-\")[0]\n",
    "graph_file = os.path.join(input_dir, example_event_id + \"-graph.pyg\")\n",
    "graph = torch.load(graph_file)"
   ]
  },
  {
   "cell_type": "code",
   "execution_count": 5,
   "metadata": {},
   "outputs": [
    {
     "data": {
      "text/plain": [
       "Data(hit_id=[296193], x=[296193], y=[296193], z=[296193], r=[296193], phi=[296193], eta=[296193], region=[296193], cluster_x_1=[296193], cluster_y_1=[296193], cluster_z_1=[296193], cluster_x_2=[296193], cluster_y_2=[296193], cluster_z_2=[296193], norm_x=[296193], norm_y=[296193], norm_z_1=[296193], norm_z_2=[296193], count_1=[296193], charge_count_1=[296193], loc_eta_1=[296193], loc_phi_1=[296193], localDir0_1=[296193], localDir1_1=[296193], localDir2_1=[296193], lengthDir0_1=[296193], lengthDir1_1=[296193], lengthDir2_1=[296193], glob_eta_1=[296193], glob_phi_1=[296193], eta_angle_1=[296193], phi_angle_1=[296193], count_2=[296193], charge_count_2=[296193], loc_eta_2=[296193], loc_phi_2=[296193], localDir0_2=[296193], localDir1_2=[296193], localDir2_2=[296193], lengthDir0_2=[296193], lengthDir1_2=[296193], lengthDir2_2=[296193], glob_eta_2=[296193], glob_phi_2=[296193], eta_angle_2=[296193], phi_angle_2=[296193], track_edges=[2, 94483], particle_id=[94483], pt=[94483], radius=[94483], primary=[94483], nhits=[94483], pdgId=[94483], config=[1], event_id='000000033')"
      ]
     },
     "execution_count": 5,
     "metadata": {},
     "output_type": "execute_result"
    }
   ],
   "source": [
    "graph"
   ]
  },
  {
   "cell_type": "code",
   "execution_count": 6,
   "metadata": {},
   "outputs": [
    {
     "data": {
      "text/plain": [
       "<AxesSubplot: ylabel='Count'>"
      ]
     },
     "execution_count": 6,
     "metadata": {},
     "output_type": "execute_result"
    },
    {
     "data": {
      "image/png": "[encoded data removed]",
      "text/plain": [
       "<Figure size 640x480 with 1 Axes>"
      ]
     },
     "metadata": {},
     "output_type": "display_data"
    }
   ],
   "source": [
    "sns.histplot(graph.x)"
   ]
  },
  {
   "cell_type": "code",
   "execution_count": 7,
   "metadata": {},
   "outputs": [
    {
     "data": {
      "text/plain": [
       "<AxesSubplot: ylabel='Count'>"
      ]
     },
     "execution_count": 7,
     "metadata": {},
     "output_type": "execute_result"
    },
    {
     "data": {
      "image/png": "[encoded data removed]",
      "text/plain": [
       "<Figure size 640x480 with 1 Axes>"
      ]
     },
     "metadata": {},
     "output_type": "display_data"
    }
   ],
   "source": [
    "sns.histplot(graph.phi)"
   ]
  },
  {
   "cell_type": "code",
   "execution_count": 8,
   "metadata": {},
   "outputs": [
    {
     "data": {
      "text/plain": [
       "<AxesSubplot: ylabel='Count'>"
      ]
     },
     "execution_count": 8,
     "metadata": {},
     "output_type": "execute_result"
    },
    {
     "data": {
      "image/png": "[encoded data removed]",
      "text/plain": [
       "<Figure size 640x480 with 1 Axes>"
      ]
     },
     "metadata": {},
     "output_type": "display_data"
    }
   ],
   "source": [
    "sns.histplot(graph.pt, log_scale=True)"
   ]
  },
  {
   "cell_type": "code",
   "execution_count": 9,
   "metadata": {},
   "outputs": [
    {
     "data": {
      "text/plain": [
       "<AxesSubplot: ylabel='Count'>"
      ]
     },
     "execution_count": 9,
     "metadata": {},
     "output_type": "execute_result"
    },
    {
     "data": {
      "image/png": "[encoded data removed]",
      "text/plain": [
       "<Figure size 640x480 with 1 Axes>"
      ]
     },
     "metadata": {},
     "output_type": "display_data"
    }
   ],
   "source": [
    "sns.histplot(graph.nhits)"
   ]
  },
  {
   "cell_type": "code",
   "execution_count": null,
   "metadata": {},
   "outputs": [],
   "source": []
  }
 ],
 "metadata": {
  "kernelspec": {
   "display_name": "gnn4itk",
   "language": "python",
   "name": "python3"
  },
  "language_info": {
   "codemirror_mode": {
    "name": "ipython",
    "version": 3
   },
   "file_extension": ".py",
   "mimetype": "text/x-python",
   "name": "python",
   "nbconvert_exporter": "python",
   "pygments_lexer": "ipython3",
   "version": "3.9.13"
  },
  "orig_nbformat": 4,
  "vscode": {
   "interpreter": {
    "hash": "ab48adb41b8b8044ca3e1b10285c01a4f474a98b0c8dc3ffd314e85581ffd197"
   }
  }
 },
 "nbformat": 4,
 "nbformat_minor": 2
}
