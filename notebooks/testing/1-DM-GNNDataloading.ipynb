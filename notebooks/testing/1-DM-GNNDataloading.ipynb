{
 "cells": [
  {
   "cell_type": "markdown",
   "metadata": {},
   "source": [
    "# Dataloading into Graph Neural Network / EdgeClassifer stage"
   ]
  },
  {
   "cell_type": "markdown",
   "metadata": {},
   "source": [
    "**Goal**: Test the weighting and hard cut config of the data loading process"
   ]
  },
  {
   "cell_type": "code",
   "execution_count": 2,
   "metadata": {},
   "outputs": [
    {
     "name": "stdout",
     "output_type": "stream",
     "text": [
      "The autoreload extension is already loaded. To reload it, use:\n",
      "  %reload_ext autoreload\n"
     ]
    }
   ],
   "source": [
    "%load_ext autoreload\n",
    "%autoreload 2\n",
    "\n",
    "import os\n",
    "\n",
    "import numpy as np\n",
    "import pandas as pd\n",
    "import yaml\n",
    "import torch\n",
    "\n",
    "from time import time as tt\n",
    "\n"
   ]
  },
  {
   "cell_type": "markdown",
   "metadata": {},
   "source": [
    "## Inspect Data Sample"
   ]
  },
  {
   "cell_type": "code",
   "execution_count": 2,
   "metadata": {},
   "outputs": [],
   "source": [
    "from gnn4itk_cf.stages.edge_classifier import InteractionGNN"
   ]
  },
  {
   "cell_type": "code",
   "execution_count": 34,
   "metadata": {},
   "outputs": [],
   "source": [
    "input_dir = \"/global/cfs/cdirs/m3443/data/GNN4ITK/CommonFrameworkExamples/Example_1_Dev/module_map/trainset\"\n",
    "sample = torch.load(os.path.join(input_dir, \"event000000100.pyg\"), map_location=\"cpu\")"
   ]
  },
  {
   "cell_type": "code",
   "execution_count": 35,
   "metadata": {},
   "outputs": [
    {
     "data": {
      "text/plain": [
       "Data(hit_id=[261380], x=[261380], y=[840561], z=[261380], r=[261380], phi=[261380], eta=[261380], region=[261380], cluster_x_1=[261380], cluster_y_1=[261380], cluster_z_1=[261380], cluster_x_2=[261380], cluster_y_2=[261380], cluster_z_2=[261380], norm_x=[261380], norm_y=[261380], norm_z_1=[261380], eta_angle_1=[261380], phi_angle_1=[261380], eta_angle_2=[261380], phi_angle_2=[261380], norm_z_2=[261380], track_edges=[2, 106333], particle_id=[106333], pt=[106333], radius=[106333], primary=[106333], nhits=[106333], pdgId=[106333], config=[1], event_id='000000100', edge_index=[2, 840561], truth_map=[106333])"
      ]
     },
     "execution_count": 35,
     "metadata": {},
     "output_type": "execute_result"
    }
   ],
   "source": [
    "sample"
   ]
  },
  {
   "cell_type": "markdown",
   "metadata": {},
   "source": [
    "## Test GNN dataloading"
   ]
  },
  {
   "cell_type": "code",
   "execution_count": 3,
   "metadata": {},
   "outputs": [],
   "source": [
    "import yaml"
   ]
  },
  {
   "cell_type": "code",
   "execution_count": 4,
   "metadata": {},
   "outputs": [],
   "source": [
    "with open(\"gnn_train.yaml\", \"r\") as f:\n",
    "    config = yaml.load(f, Loader=yaml.FullLoader)"
   ]
  },
  {
   "cell_type": "code",
   "execution_count": 5,
   "metadata": {},
   "outputs": [
    {
     "name": "stdout",
     "output_type": "stream",
     "text": [
      "Defining figures of merit\n"
     ]
    },
    {
     "name": "stderr",
     "output_type": "stream",
     "text": [
      "/global/u2/d/danieltm/ExaTrkX/GNN4ITkTeam/commonframework/gnn4itk_cf/stages/edge_classifier/models/interaction_gnn.py:89: UserWarning: Failed to define figures of merit, due to logger unavailable\n",
      "  warnings.warn(\"Failed to define figures of merit, due to logger unavailable\")\n"
     ]
    }
   ],
   "source": [
    "model = InteractionGNN(config)"
   ]
  },
  {
   "cell_type": "code",
   "execution_count": 6,
   "metadata": {},
   "outputs": [
    {
     "name": "stderr",
     "output_type": "stream",
     "text": [
      "/global/u2/d/danieltm/ExaTrkX/GNN4ITkTeam/commonframework/gnn4itk_cf/utils/loading_utils.py:49: UserWarning: OPTIONAL feature [ghost] not found in data\n",
      "  warnings.warn(f\"OPTIONAL feature [{feature}] not found in data\")\n",
      "/global/u2/d/danieltm/ExaTrkX/GNN4ITkTeam/commonframework/gnn4itk_cf/utils/loading_utils.py:49: UserWarning: OPTIONAL feature [shared] not found in data\n",
      "  warnings.warn(f\"OPTIONAL feature [{feature}] not found in data\")\n",
      "/global/u2/d/danieltm/ExaTrkX/GNN4ITkTeam/commonframework/gnn4itk_cf/utils/loading_utils.py:49: UserWarning: OPTIONAL feature [module_id] not found in data\n",
      "  warnings.warn(f\"OPTIONAL feature [{feature}] not found in data\")\n"
     ]
    }
   ],
   "source": [
    "model.setup(stage=\"predict\")"
   ]
  },
  {
   "cell_type": "code",
   "execution_count": 7,
   "metadata": {},
   "outputs": [],
   "source": [
    "dataloaders = model.predict_dataloader()"
   ]
  },
  {
   "cell_type": "code",
   "execution_count": 11,
   "metadata": {},
   "outputs": [
    {
     "data": {
      "text/plain": [
       "{'root': '/global/cfs/cdirs/m3443/data/GNN4ITK/CommonFrameworkExamples/Example_1_Dev/module_map',\n",
       " 'transform': None,\n",
       " 'pre_transform': None,\n",
       " 'pre_filter': None,\n",
       " '_indices': None,\n",
       " 'input_dir': '/global/cfs/cdirs/m3443/data/GNN4ITK/CommonFrameworkExamples/Example_1_Dev/module_map/',\n",
       " 'data_name': 'trainset',\n",
       " 'hparams': \"aggregation\":       sum\n",
       " \"batchnorm\":         False\n",
       " \"data_split\":        [80, 10, 10]\n",
       " \"edge_cut\":          0.5\n",
       " \"emb_channels\":      0\n",
       " \"factor\":            0.9\n",
       " \"gpus\":              1\n",
       " \"hard_cuts\":         {'pt': [1000, inf]}\n",
       " \"hidden\":            128\n",
       " \"hidden_activation\": SiLU\n",
       " \"input_dir\":         /global/cfs/cdirs/m3443/data/GNN4ITK/CommonFrameworkExamples/Example_1_Dev/module_map/\n",
       " \"layernorm\":         True\n",
       " \"lr\":                0.0001\n",
       " \"max_epochs\":        200\n",
       " \"model\":             InteractionGNN\n",
       " \"n_graph_iters\":     8\n",
       " \"nb_edge_layer\":     2\n",
       " \"nb_node_layer\":     2\n",
       " \"node_features\":     ['r', 'phi', 'z']\n",
       " \"nodes\":             1\n",
       " \"output_activation\": Tanh\n",
       " \"patience\":          15\n",
       " \"project\":           CF_Example_1_GNN\n",
       " \"stage\":             edge_classifier\n",
       " \"stage_dir\":         /global/cfs/cdirs/m3443/data/GNN4ITK/CommonFrameworkExamples/Example_1_Dev/gnn/\n",
       " \"warmup\":            5\n",
       " \"weighting\":         [{'weight': 2.0, 'conditions': {'pt': [1000, inf], 'nhits': [3, inf], 'primary': True, 'pdgId': ['not_in', [11, -11]]}}],\n",
       " 'num_events': 80,\n",
       " 'stage': 'predict',\n",
       " 'input_paths': ['/global/cfs/cdirs/m3443/data/GNN4ITK/CommonFrameworkExamples/Example_1_Dev/module_map/trainset/event000000100.pyg',\n",
       "  '/global/cfs/cdirs/m3443/data/GNN4ITK/CommonFrameworkExamples/Example_1_Dev/module_map/trainset/event000000101.pyg',\n",
       "  '/global/cfs/cdirs/m3443/data/GNN4ITK/CommonFrameworkExamples/Example_1_Dev/module_map/trainset/event000000104.pyg',\n",
       "  '/global/cfs/cdirs/m3443/data/GNN4ITK/CommonFrameworkExamples/Example_1_Dev/module_map/trainset/event000000106.pyg',\n",
       "  '/global/cfs/cdirs/m3443/data/GNN4ITK/CommonFrameworkExamples/Example_1_Dev/module_map/trainset/event000000107.pyg',\n",
       "  '/global/cfs/cdirs/m3443/data/GNN4ITK/CommonFrameworkExamples/Example_1_Dev/module_map/trainset/event000000109.pyg',\n",
       "  '/global/cfs/cdirs/m3443/data/GNN4ITK/CommonFrameworkExamples/Example_1_Dev/module_map/trainset/event000000110.pyg',\n",
       "  '/global/cfs/cdirs/m3443/data/GNN4ITK/CommonFrameworkExamples/Example_1_Dev/module_map/trainset/event000000111.pyg',\n",
       "  '/global/cfs/cdirs/m3443/data/GNN4ITK/CommonFrameworkExamples/Example_1_Dev/module_map/trainset/event000000112.pyg',\n",
       "  '/global/cfs/cdirs/m3443/data/GNN4ITK/CommonFrameworkExamples/Example_1_Dev/module_map/trainset/event000000113.pyg',\n",
       "  '/global/cfs/cdirs/m3443/data/GNN4ITK/CommonFrameworkExamples/Example_1_Dev/module_map/trainset/event000000114.pyg',\n",
       "  '/global/cfs/cdirs/m3443/data/GNN4ITK/CommonFrameworkExamples/Example_1_Dev/module_map/trainset/event000000115.pyg',\n",
       "  '/global/cfs/cdirs/m3443/data/GNN4ITK/CommonFrameworkExamples/Example_1_Dev/module_map/trainset/event000000116.pyg',\n",
       "  '/global/cfs/cdirs/m3443/data/GNN4ITK/CommonFrameworkExamples/Example_1_Dev/module_map/trainset/event000000117.pyg',\n",
       "  '/global/cfs/cdirs/m3443/data/GNN4ITK/CommonFrameworkExamples/Example_1_Dev/module_map/trainset/event000000119.pyg',\n",
       "  '/global/cfs/cdirs/m3443/data/GNN4ITK/CommonFrameworkExamples/Example_1_Dev/module_map/trainset/event000000120.pyg',\n",
       "  '/global/cfs/cdirs/m3443/data/GNN4ITK/CommonFrameworkExamples/Example_1_Dev/module_map/trainset/event000000122.pyg',\n",
       "  '/global/cfs/cdirs/m3443/data/GNN4ITK/CommonFrameworkExamples/Example_1_Dev/module_map/trainset/event000000123.pyg',\n",
       "  '/global/cfs/cdirs/m3443/data/GNN4ITK/CommonFrameworkExamples/Example_1_Dev/module_map/trainset/event000000124.pyg',\n",
       "  '/global/cfs/cdirs/m3443/data/GNN4ITK/CommonFrameworkExamples/Example_1_Dev/module_map/trainset/event000000125.pyg',\n",
       "  '/global/cfs/cdirs/m3443/data/GNN4ITK/CommonFrameworkExamples/Example_1_Dev/module_map/trainset/event000000126.pyg',\n",
       "  '/global/cfs/cdirs/m3443/data/GNN4ITK/CommonFrameworkExamples/Example_1_Dev/module_map/trainset/event000000127.pyg',\n",
       "  '/global/cfs/cdirs/m3443/data/GNN4ITK/CommonFrameworkExamples/Example_1_Dev/module_map/trainset/event000000128.pyg',\n",
       "  '/global/cfs/cdirs/m3443/data/GNN4ITK/CommonFrameworkExamples/Example_1_Dev/module_map/trainset/event000000131.pyg',\n",
       "  '/global/cfs/cdirs/m3443/data/GNN4ITK/CommonFrameworkExamples/Example_1_Dev/module_map/trainset/event000000132.pyg',\n",
       "  '/global/cfs/cdirs/m3443/data/GNN4ITK/CommonFrameworkExamples/Example_1_Dev/module_map/trainset/event000000133.pyg',\n",
       "  '/global/cfs/cdirs/m3443/data/GNN4ITK/CommonFrameworkExamples/Example_1_Dev/module_map/trainset/event000000134.pyg',\n",
       "  '/global/cfs/cdirs/m3443/data/GNN4ITK/CommonFrameworkExamples/Example_1_Dev/module_map/trainset/event000000135.pyg',\n",
       "  '/global/cfs/cdirs/m3443/data/GNN4ITK/CommonFrameworkExamples/Example_1_Dev/module_map/trainset/event000000136.pyg',\n",
       "  '/global/cfs/cdirs/m3443/data/GNN4ITK/CommonFrameworkExamples/Example_1_Dev/module_map/trainset/event000000137.pyg',\n",
       "  '/global/cfs/cdirs/m3443/data/GNN4ITK/CommonFrameworkExamples/Example_1_Dev/module_map/trainset/event000000138.pyg',\n",
       "  '/global/cfs/cdirs/m3443/data/GNN4ITK/CommonFrameworkExamples/Example_1_Dev/module_map/trainset/event000000139.pyg',\n",
       "  '/global/cfs/cdirs/m3443/data/GNN4ITK/CommonFrameworkExamples/Example_1_Dev/module_map/trainset/event000000140.pyg',\n",
       "  '/global/cfs/cdirs/m3443/data/GNN4ITK/CommonFrameworkExamples/Example_1_Dev/module_map/trainset/event000000141.pyg',\n",
       "  '/global/cfs/cdirs/m3443/data/GNN4ITK/CommonFrameworkExamples/Example_1_Dev/module_map/trainset/event000000142.pyg',\n",
       "  '/global/cfs/cdirs/m3443/data/GNN4ITK/CommonFrameworkExamples/Example_1_Dev/module_map/trainset/event000000144.pyg',\n",
       "  '/global/cfs/cdirs/m3443/data/GNN4ITK/CommonFrameworkExamples/Example_1_Dev/module_map/trainset/event000000145.pyg',\n",
       "  '/global/cfs/cdirs/m3443/data/GNN4ITK/CommonFrameworkExamples/Example_1_Dev/module_map/trainset/event000000146.pyg',\n",
       "  '/global/cfs/cdirs/m3443/data/GNN4ITK/CommonFrameworkExamples/Example_1_Dev/module_map/trainset/event000000147.pyg',\n",
       "  '/global/cfs/cdirs/m3443/data/GNN4ITK/CommonFrameworkExamples/Example_1_Dev/module_map/trainset/event000000148.pyg',\n",
       "  '/global/cfs/cdirs/m3443/data/GNN4ITK/CommonFrameworkExamples/Example_1_Dev/module_map/trainset/event000000149.pyg',\n",
       "  '/global/cfs/cdirs/m3443/data/GNN4ITK/CommonFrameworkExamples/Example_1_Dev/module_map/trainset/event000000150.pyg',\n",
       "  '/global/cfs/cdirs/m3443/data/GNN4ITK/CommonFrameworkExamples/Example_1_Dev/module_map/trainset/event000000151.pyg',\n",
       "  '/global/cfs/cdirs/m3443/data/GNN4ITK/CommonFrameworkExamples/Example_1_Dev/module_map/trainset/event000000152.pyg',\n",
       "  '/global/cfs/cdirs/m3443/data/GNN4ITK/CommonFrameworkExamples/Example_1_Dev/module_map/trainset/event000000153.pyg',\n",
       "  '/global/cfs/cdirs/m3443/data/GNN4ITK/CommonFrameworkExamples/Example_1_Dev/module_map/trainset/event000000155.pyg',\n",
       "  '/global/cfs/cdirs/m3443/data/GNN4ITK/CommonFrameworkExamples/Example_1_Dev/module_map/trainset/event000000156.pyg',\n",
       "  '/global/cfs/cdirs/m3443/data/GNN4ITK/CommonFrameworkExamples/Example_1_Dev/module_map/trainset/event000000157.pyg',\n",
       "  '/global/cfs/cdirs/m3443/data/GNN4ITK/CommonFrameworkExamples/Example_1_Dev/module_map/trainset/event000000159.pyg',\n",
       "  '/global/cfs/cdirs/m3443/data/GNN4ITK/CommonFrameworkExamples/Example_1_Dev/module_map/trainset/event000000162.pyg',\n",
       "  '/global/cfs/cdirs/m3443/data/GNN4ITK/CommonFrameworkExamples/Example_1_Dev/module_map/trainset/event000000163.pyg',\n",
       "  '/global/cfs/cdirs/m3443/data/GNN4ITK/CommonFrameworkExamples/Example_1_Dev/module_map/trainset/event000000167.pyg',\n",
       "  '/global/cfs/cdirs/m3443/data/GNN4ITK/CommonFrameworkExamples/Example_1_Dev/module_map/trainset/event000000168.pyg',\n",
       "  '/global/cfs/cdirs/m3443/data/GNN4ITK/CommonFrameworkExamples/Example_1_Dev/module_map/trainset/event000000169.pyg',\n",
       "  '/global/cfs/cdirs/m3443/data/GNN4ITK/CommonFrameworkExamples/Example_1_Dev/module_map/trainset/event000000170.pyg',\n",
       "  '/global/cfs/cdirs/m3443/data/GNN4ITK/CommonFrameworkExamples/Example_1_Dev/module_map/trainset/event000000171.pyg',\n",
       "  '/global/cfs/cdirs/m3443/data/GNN4ITK/CommonFrameworkExamples/Example_1_Dev/module_map/trainset/event000000172.pyg',\n",
       "  '/global/cfs/cdirs/m3443/data/GNN4ITK/CommonFrameworkExamples/Example_1_Dev/module_map/trainset/event000000175.pyg',\n",
       "  '/global/cfs/cdirs/m3443/data/GNN4ITK/CommonFrameworkExamples/Example_1_Dev/module_map/trainset/event000000176.pyg',\n",
       "  '/global/cfs/cdirs/m3443/data/GNN4ITK/CommonFrameworkExamples/Example_1_Dev/module_map/trainset/event000000177.pyg',\n",
       "  '/global/cfs/cdirs/m3443/data/GNN4ITK/CommonFrameworkExamples/Example_1_Dev/module_map/trainset/event000000179.pyg',\n",
       "  '/global/cfs/cdirs/m3443/data/GNN4ITK/CommonFrameworkExamples/Example_1_Dev/module_map/trainset/event000000180.pyg',\n",
       "  '/global/cfs/cdirs/m3443/data/GNN4ITK/CommonFrameworkExamples/Example_1_Dev/module_map/trainset/event000000181.pyg',\n",
       "  '/global/cfs/cdirs/m3443/data/GNN4ITK/CommonFrameworkExamples/Example_1_Dev/module_map/trainset/event000000182.pyg',\n",
       "  '/global/cfs/cdirs/m3443/data/GNN4ITK/CommonFrameworkExamples/Example_1_Dev/module_map/trainset/event000000183.pyg',\n",
       "  '/global/cfs/cdirs/m3443/data/GNN4ITK/CommonFrameworkExamples/Example_1_Dev/module_map/trainset/event000000184.pyg',\n",
       "  '/global/cfs/cdirs/m3443/data/GNN4ITK/CommonFrameworkExamples/Example_1_Dev/module_map/trainset/event000000185.pyg',\n",
       "  '/global/cfs/cdirs/m3443/data/GNN4ITK/CommonFrameworkExamples/Example_1_Dev/module_map/trainset/event000000186.pyg',\n",
       "  '/global/cfs/cdirs/m3443/data/GNN4ITK/CommonFrameworkExamples/Example_1_Dev/module_map/trainset/event000000187.pyg',\n",
       "  '/global/cfs/cdirs/m3443/data/GNN4ITK/CommonFrameworkExamples/Example_1_Dev/module_map/trainset/event000000188.pyg',\n",
       "  '/global/cfs/cdirs/m3443/data/GNN4ITK/CommonFrameworkExamples/Example_1_Dev/module_map/trainset/event000000189.pyg',\n",
       "  '/global/cfs/cdirs/m3443/data/GNN4ITK/CommonFrameworkExamples/Example_1_Dev/module_map/trainset/event000000190.pyg',\n",
       "  '/global/cfs/cdirs/m3443/data/GNN4ITK/CommonFrameworkExamples/Example_1_Dev/module_map/trainset/event000000191.pyg',\n",
       "  '/global/cfs/cdirs/m3443/data/GNN4ITK/CommonFrameworkExamples/Example_1_Dev/module_map/trainset/event000000192.pyg',\n",
       "  '/global/cfs/cdirs/m3443/data/GNN4ITK/CommonFrameworkExamples/Example_1_Dev/module_map/trainset/event000000193.pyg',\n",
       "  '/global/cfs/cdirs/m3443/data/GNN4ITK/CommonFrameworkExamples/Example_1_Dev/module_map/trainset/event000000195.pyg',\n",
       "  '/global/cfs/cdirs/m3443/data/GNN4ITK/CommonFrameworkExamples/Example_1_Dev/module_map/trainset/event000000196.pyg',\n",
       "  '/global/cfs/cdirs/m3443/data/GNN4ITK/CommonFrameworkExamples/Example_1_Dev/module_map/trainset/event000000197.pyg',\n",
       "  '/global/cfs/cdirs/m3443/data/GNN4ITK/CommonFrameworkExamples/Example_1_Dev/module_map/trainset/event000000198.pyg',\n",
       "  '/global/cfs/cdirs/m3443/data/GNN4ITK/CommonFrameworkExamples/Example_1_Dev/module_map/trainset/event000000199.pyg']}"
      ]
     },
     "execution_count": 11,
     "metadata": {},
     "output_type": "execute_result"
    }
   ],
   "source": [
    "dataloaders[0].dataset.__dict__"
   ]
  },
  {
   "cell_type": "code",
   "execution_count": 42,
   "metadata": {},
   "outputs": [],
   "source": [
    "sample2 = model.trainset[0]"
   ]
  },
  {
   "cell_type": "code",
   "execution_count": 43,
   "metadata": {},
   "outputs": [
    {
     "data": {
      "text/plain": [
       "Data(hit_id=[261380], x=[261380], y=[840561], z=[261380], r=[261380], phi=[261380], eta=[261380], region=[261380], cluster_x_1=[261380], cluster_y_1=[261380], cluster_z_1=[261380], cluster_x_2=[261380], cluster_y_2=[261380], cluster_z_2=[261380], norm_x=[261380], norm_y=[261380], norm_z_1=[261380], eta_angle_1=[261380], phi_angle_1=[261380], eta_angle_2=[261380], phi_angle_2=[261380], norm_z_2=[261380], track_edges=[2, 106333], particle_id=[106333], pt=[106333], radius=[106333], primary=[106333], nhits=[106333], pdgId=[106333], config=[1], event_id='000000100', edge_index=[2, 840561], truth_map=[106333], weights=[840561])"
      ]
     },
     "execution_count": 43,
     "metadata": {},
     "output_type": "execute_result"
    }
   ],
   "source": [
    "sample2"
   ]
  },
  {
   "cell_type": "code",
   "execution_count": 44,
   "metadata": {},
   "outputs": [
    {
     "data": {
      "text/plain": [
       "tensor(13908)"
      ]
     },
     "execution_count": 44,
     "metadata": {},
     "output_type": "execute_result"
    }
   ],
   "source": [
    "(sample2.pt[sample2.truth_map >= 0] > 1000).sum()"
   ]
  },
  {
   "cell_type": "code",
   "execution_count": 45,
   "metadata": {},
   "outputs": [
    {
     "data": {
      "text/plain": [
       "torch.Size([840561])"
      ]
     },
     "execution_count": 45,
     "metadata": {},
     "output_type": "execute_result"
    }
   ],
   "source": [
    "sample2.weights.shape"
   ]
  },
  {
   "cell_type": "code",
   "execution_count": 46,
   "metadata": {},
   "outputs": [
    {
     "data": {
      "text/plain": [
       "tensor(True)"
      ]
     },
     "execution_count": 46,
     "metadata": {},
     "output_type": "execute_result"
    }
   ],
   "source": [
    "(sample2.weights[~sample2.y] == 1.).all()"
   ]
  },
  {
   "cell_type": "code",
   "execution_count": 47,
   "metadata": {},
   "outputs": [
    {
     "data": {
      "text/plain": [
       "tensor(784401)"
      ]
     },
     "execution_count": 47,
     "metadata": {},
     "output_type": "execute_result"
    }
   ],
   "source": [
    "(sample2.weights == 1.).sum()"
   ]
  },
  {
   "cell_type": "code",
   "execution_count": 48,
   "metadata": {},
   "outputs": [
    {
     "data": {
      "text/plain": [
       "tensor(43818)"
      ]
     },
     "execution_count": 48,
     "metadata": {},
     "output_type": "execute_result"
    }
   ],
   "source": [
    "(sample2.weights == 0.).sum()"
   ]
  },
  {
   "cell_type": "code",
   "execution_count": 49,
   "metadata": {},
   "outputs": [
    {
     "data": {
      "text/plain": [
       "tensor(12342)"
      ]
     },
     "execution_count": 49,
     "metadata": {},
     "output_type": "execute_result"
    }
   ],
   "source": [
    "(sample2.weights == 5.).sum()"
   ]
  },
  {
   "cell_type": "code",
   "execution_count": null,
   "metadata": {},
   "outputs": [],
   "source": []
  },
  {
   "cell_type": "markdown",
   "metadata": {},
   "source": [
    "## Testing Scored Graphs"
   ]
  },
  {
   "cell_type": "code",
   "execution_count": 3,
   "metadata": {},
   "outputs": [],
   "source": [
    "input_dir = \"/global/cfs/cdirs/m3443/data/GNN4ITK/CommonFrameworkExamples/Example_1_Dev/gnn/trainset\"\n",
    "sample = torch.load(os.path.join(input_dir, \"event000000100.pyg\"), map_location=\"cpu\")"
   ]
  },
  {
   "cell_type": "code",
   "execution_count": 4,
   "metadata": {},
   "outputs": [
    {
     "data": {
      "text/plain": [
       "Data(hit_id=[261380], x=[261380], y=[34557], z=[261380], r=[261380], phi=[261380], eta=[261380], region=[261380], cluster_x_1=[261380], cluster_y_1=[261380], cluster_z_1=[261380], cluster_x_2=[261380], cluster_y_2=[261380], cluster_z_2=[261380], norm_x=[261380], norm_y=[261380], norm_z_1=[261380], eta_angle_1=[261380], phi_angle_1=[261380], eta_angle_2=[261380], phi_angle_2=[261380], norm_z_2=[261380], track_edges=[2, 14598], particle_id=[14598], pt=[14598], radius=[14598], primary=[14598], nhits=[14598], pdgId=[14598], config=[2], event_id='000000100', edge_index=[2, 34557], truth_map=[14598], weights=[34557], scores=[34557])"
      ]
     },
     "execution_count": 4,
     "metadata": {},
     "output_type": "execute_result"
    }
   ],
   "source": [
    "sample"
   ]
  },
  {
   "cell_type": "code",
   "execution_count": null,
   "metadata": {},
   "outputs": [],
   "source": []
  }
 ],
 "metadata": {
  "kernelspec": {
   "display_name": "Python 3.9.13 ('gnn4itk': conda)",
   "language": "python",
   "name": "python3"
  },
  "language_info": {
   "codemirror_mode": {
    "name": "ipython",
    "version": 3
   },
   "file_extension": ".py",
   "mimetype": "text/x-python",
   "name": "python",
   "nbconvert_exporter": "python",
   "pygments_lexer": "ipython3",
   "version": "3.9.13 | packaged by conda-forge | (main, May 27 2022, 16:56:21) \n[GCC 10.3.0]"
  },
  "orig_nbformat": 4,
  "vscode": {
   "interpreter": {
    "hash": "ab48adb41b8b8044ca3e1b10285c01a4f474a98b0c8dc3ffd314e85581ffd197"
   }
  }
 },
 "nbformat": 4,
 "nbformat_minor": 2
}
