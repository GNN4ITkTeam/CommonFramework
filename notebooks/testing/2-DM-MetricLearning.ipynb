{
 "cells": [
  {
   "attachments": {},
   "cell_type": "markdown",
   "metadata": {},
   "source": [
    "# Dataloading into Graph Construction Stage"
   ]
  },
  {
   "cell_type": "markdown",
   "metadata": {},
   "source": [
    "**Goal**: Test the weighting and hard cut config of the data loading process"
   ]
  },
  {
   "cell_type": "code",
   "execution_count": 1,
   "metadata": {},
   "outputs": [
    {
     "name": "stderr",
     "output_type": "stream",
     "text": [
      "/global/homes/d/danieltm/.conda/envs/gnn4itk-cori/lib/python3.9/site-packages/tqdm/auto.py:22: TqdmWarning: IProgress not found. Please update jupyter and ipywidgets. See https://ipywidgets.readthedocs.io/en/stable/user_install.html\n",
      "  from .autonotebook import tqdm as notebook_tqdm\n"
     ]
    }
   ],
   "source": [
    "%load_ext autoreload\n",
    "%autoreload 2\n",
    "\n",
    "import os\n",
    "import yaml\n",
    "\n",
    "import numpy as np\n",
    "import pandas as pd\n",
    "import yaml\n",
    "import torch\n",
    "from torch_geometric.data import Data\n",
    "import matplotlib.pyplot as plt\n",
    "\n",
    "from time import time as tt"
   ]
  },
  {
   "cell_type": "markdown",
   "metadata": {},
   "source": [
    "## Inspect Data Sample"
   ]
  },
  {
   "cell_type": "code",
   "execution_count": 2,
   "metadata": {},
   "outputs": [
    {
     "name": "stderr",
     "output_type": "stream",
     "text": [
      "WARNING:root:FRNN is not available, install it at https://github.com/murnanedaniel/FRNN. Using PyG radius instead.\n",
      "WARNING:root:FRNN is not available, as no GPU is available\n",
      "/global/homes/d/danieltm/.conda/envs/gnn4itk-cori/lib/python3.9/site-packages/cudf/utils/gpu_utils.py:148: UserWarning: No NVIDIA GPU detected\n",
      "  warnings.warn(\"No NVIDIA GPU detected\")\n",
      "ERROR:ptxcompiler.patch:Error getting driver and runtime versions:\n",
      "\n",
      "stdout:\n",
      "\n",
      "\n",
      "\n",
      "stderr:\n",
      "\n",
      "Traceback (most recent call last):\n",
      "  File \"/global/homes/d/danieltm/.conda/envs/gnn4itk-cori/lib/python3.9/site-packages/numba/cuda/cudadrv/driver.py\", line 246, in ensure_initialized\n",
      "    self.cuInit(0)\n",
      "  File \"/global/homes/d/danieltm/.conda/envs/gnn4itk-cori/lib/python3.9/site-packages/numba/cuda/cudadrv/driver.py\", line 319, in safe_cuda_api_call\n",
      "    self._check_ctypes_error(fname, retcode)\n",
      "  File \"/global/homes/d/danieltm/.conda/envs/gnn4itk-cori/lib/python3.9/site-packages/numba/cuda/cudadrv/driver.py\", line 387, in _check_ctypes_error\n",
      "    raise CudaAPIError(retcode, msg)\n",
      "numba.cuda.cudadrv.driver.CudaAPIError: [100] Call to cuInit results in CUDA_ERROR_NO_DEVICE\n",
      "\n",
      "During handling of the above exception, another exception occurred:\n",
      "\n",
      "Traceback (most recent call last):\n",
      "  File \"<string>\", line 4, in <module>\n",
      "  File \"/global/homes/d/danieltm/.conda/envs/gnn4itk-cori/lib/python3.9/site-packages/numba/cuda/cudadrv/driver.py\", line 284, in __getattr__\n",
      "    self.ensure_initialized()\n",
      "  File \"/global/homes/d/danieltm/.conda/envs/gnn4itk-cori/lib/python3.9/site-packages/numba/cuda/cudadrv/driver.py\", line 250, in ensure_initialized\n",
      "    raise CudaSupportError(f\"Error at driver init: {description}\")\n",
      "numba.cuda.cudadrv.error.CudaSupportError: Error at driver init: Call to cuInit results in CUDA_ERROR_NO_DEVICE (100)\n",
      "\n",
      "\n",
      "Not patching Numba\n"
     ]
    }
   ],
   "source": [
    "from gnn4itk_cf.stages.graph_construction.utils import handle_weighting\n",
    "from gnn4itk_cf.stages.graph_construction.models.utils import graph_intersection, build_edges\n",
    "from gnn4itk_cf.stages.graph_construction.utils import *"
   ]
  },
  {
   "cell_type": "code",
   "execution_count": 34,
   "metadata": {},
   "outputs": [],
   "source": [
    "input_dir = \"/global/cfs/cdirs/m3443/data/GNN4ITK/CommonFrameworkExamples/Example_1_Dev/module_map/trainset\"\n",
    "sample = torch.load(os.path.join(input_dir, \"event000000100.pyg\"), map_location=\"cpu\")"
   ]
  },
  {
   "attachments": {},
   "cell_type": "markdown",
   "metadata": {},
   "source": [
    "## Toy Example"
   ]
  },
  {
   "cell_type": "code",
   "execution_count": 63,
   "metadata": {},
   "outputs": [],
   "source": [
    "weighting_config = [\n",
    "    {\n",
    "        \"weight\": 1.0,\n",
    "        \"conditions\": {\"y\": False}\n",
    "    },\n",
    "    {\n",
    "        \"weight\": -1.0,\n",
    "        \"conditions\": {\"y\": True,\n",
    "                \"pT\": [0.0, 0.8]}\n",
    "    }\n",
    "    {\n",
    "        \"weight\": 2.0,\n",
    "        \"conditions\": {\"y\": True,\n",
    "             \"pT\": [1.0, np.inf]}\n",
    "    }\n",
    "]"
   ]
  },
  {
   "cell_type": "code",
   "execution_count": 64,
   "metadata": {},
   "outputs": [],
   "source": [
    "track_edges = torch.Tensor([\n",
    "    [0, 1, 3, 4, 7, 9],\n",
    "    [3, 4, 6, 7, 8, 10]\n",
    "    ]).long()\n",
    "pT = torch.Tensor([0.1, 1.1, 0.1, 1.1, 1.1, 2.0]).float()"
   ]
  },
  {
   "cell_type": "code",
   "execution_count": 66,
   "metadata": {},
   "outputs": [],
   "source": [
    "true_edges = torch.cat([track_edges, track_edges.flip(0)], dim=1)"
   ]
  },
  {
   "cell_type": "code",
   "execution_count": 72,
   "metadata": {},
   "outputs": [],
   "source": [
    "pred_edges = torch.Tensor([\n",
    "    [1, 1, 2, 4, 6, 5, 7, 7],\n",
    "    [2, 4, 5, 3, 3, 7, 8, 9]\n",
    "]).long()"
   ]
  },
  {
   "cell_type": "code",
   "execution_count": 73,
   "metadata": {},
   "outputs": [],
   "source": [
    "event = Data(pT = pT, track_edges = track_edges, edge_index = pred_edges)"
   ]
  },
  {
   "cell_type": "code",
   "execution_count": 74,
   "metadata": {},
   "outputs": [],
   "source": [
    "event.y, truth_to_pred_map = graph_intersection(pred_edges, true_edges, return_truth_to_pred=True)"
   ]
  },
  {
   "cell_type": "code",
   "execution_count": 75,
   "metadata": {},
   "outputs": [
    {
     "data": {
      "text/plain": [
       "Data(edge_index=[2, 8], pT=[6], track_edges=[2, 6], y=[8])"
      ]
     },
     "execution_count": 75,
     "metadata": {},
     "output_type": "execute_result"
    }
   ],
   "source": [
    "event"
   ]
  },
  {
   "cell_type": "code",
   "execution_count": 76,
   "metadata": {},
   "outputs": [
    {
     "data": {
      "text/plain": [
       "tensor([-1,  1, -1, -1,  6, -1, -1, -1,  4, -1, -1, -1])"
      ]
     },
     "execution_count": 76,
     "metadata": {},
     "output_type": "execute_result"
    }
   ],
   "source": [
    "truth_to_pred_map"
   ]
  },
  {
   "cell_type": "code",
   "execution_count": 82,
   "metadata": {},
   "outputs": [
    {
     "name": "stdout",
     "output_type": "stream",
     "text": [
      "torch.Size([6]) torch.Size([12])\n",
      "torch.Size([12]) torch.Size([12])\n"
     ]
    }
   ],
   "source": [
    "handle_weighting(event, weighting_config, pred_edges=pred_edges, truth=event.y, true_edges=event.track_edges, truth_map = truth_to_pred_map)"
   ]
  },
  {
   "cell_type": "code",
   "execution_count": 83,
   "metadata": {},
   "outputs": [
    {
     "data": {
      "text/plain": [
       "tensor([1., 2., 1., 1., 0., 1., 2., 1.])"
      ]
     },
     "execution_count": 83,
     "metadata": {},
     "output_type": "execute_result"
    }
   ],
   "source": [
    "event.weights"
   ]
  },
  {
   "attachments": {},
   "cell_type": "markdown",
   "metadata": {},
   "source": [
    "## Test Loading"
   ]
  },
  {
   "cell_type": "markdown",
   "metadata": {},
   "source": []
  },
  {
   "cell_type": "code",
   "execution_count": 3,
   "metadata": {},
   "outputs": [],
   "source": [
    "from gnn4itk_cf.stages.graph_construction.models.metric_learning import MetricLearning"
   ]
  },
  {
   "cell_type": "code",
   "execution_count": 4,
   "metadata": {},
   "outputs": [],
   "source": [
    "with open(\"metric_learning_train.yaml\", \"r\") as f:\n",
    "    config = yaml.load(f, Loader=yaml.FullLoader)\n",
    "model = MetricLearning(config)"
   ]
  },
  {
   "cell_type": "code",
   "execution_count": 5,
   "metadata": {},
   "outputs": [
    {
     "name": "stderr",
     "output_type": "stream",
     "text": [
      "/global/u2/d/danieltm/ExaTrkX/GNN4ITkTeam/commonframework/gnn4itk_cf/utils/loading_utils.py:48: UserWarning: OPTIONAL feature [pid] not found in data\n",
      "  warnings.warn(f\"OPTIONAL feature [{feature}] not found in data\")\n",
      "/global/u2/d/danieltm/ExaTrkX/GNN4ITkTeam/commonframework/gnn4itk_cf/utils/loading_utils.py:48: UserWarning: OPTIONAL feature [n_hits] not found in data\n",
      "  warnings.warn(f\"OPTIONAL feature [{feature}] not found in data\")\n",
      "/global/u2/d/danieltm/ExaTrkX/GNN4ITkTeam/commonframework/gnn4itk_cf/utils/loading_utils.py:48: UserWarning: OPTIONAL feature [pdg_id] not found in data\n",
      "  warnings.warn(f\"OPTIONAL feature [{feature}] not found in data\")\n",
      "/global/u2/d/danieltm/ExaTrkX/GNN4ITkTeam/commonframework/gnn4itk_cf/utils/loading_utils.py:48: UserWarning: OPTIONAL feature [ghost] not found in data\n",
      "  warnings.warn(f\"OPTIONAL feature [{feature}] not found in data\")\n",
      "/global/u2/d/danieltm/ExaTrkX/GNN4ITkTeam/commonframework/gnn4itk_cf/utils/loading_utils.py:48: UserWarning: OPTIONAL feature [shared] not found in data\n",
      "  warnings.warn(f\"OPTIONAL feature [{feature}] not found in data\")\n",
      "/global/u2/d/danieltm/ExaTrkX/GNN4ITkTeam/commonframework/gnn4itk_cf/utils/loading_utils.py:48: UserWarning: OPTIONAL feature [module_id] not found in data\n",
      "  warnings.warn(f\"OPTIONAL feature [{feature}] not found in data\")\n",
      "/global/u2/d/danieltm/ExaTrkX/GNN4ITkTeam/commonframework/gnn4itk_cf/utils/loading_utils.py:48: UserWarning: OPTIONAL feature [region_id] not found in data\n",
      "  warnings.warn(f\"OPTIONAL feature [{feature}] not found in data\")\n"
     ]
    }
   ],
   "source": [
    "model.setup(stage=\"fit\")"
   ]
  },
  {
   "cell_type": "code",
   "execution_count": 6,
   "metadata": {},
   "outputs": [
    {
     "name": "stdout",
     "output_type": "stream",
     "text": [
      "DataBatch(hit_id=[15943], x=[15943], y=[15943], z=[15943], r=[15943], phi=[15943], eta=[15943], region=[15943], cluster_x_1=[15943], cluster_y_1=[15943], cluster_z_1=[15943], cluster_x_2=[15943], cluster_y_2=[15943], cluster_z_2=[15943], norm_x=[15943], norm_y=[15943], norm_z_1=[15943], eta_angle_1=[15943], phi_angle_1=[15943], eta_angle_2=[15943], phi_angle_2=[15943], norm_z_2=[15943], track_edges=[2, 14587], particle_id=[14587], pt=[14587], radius=[14587], primary=[14587], nhits=[14587], pdgId=[14587], config=[1], event_id=[1], batch=[15943], ptr=[2])\n"
     ]
    },
    {
     "name": "stderr",
     "output_type": "stream",
     "text": [
      "/global/homes/d/danieltm/.conda/envs/gnn4itk-cori/lib/python3.9/site-packages/torch_geometric/deprecation.py:12: UserWarning: 'data.DataLoader' is deprecated, use 'loader.DataLoader' instead\n",
      "  warnings.warn(out)\n"
     ]
    }
   ],
   "source": [
    "for batch in model.train_dataloader():\n",
    "    print(batch)\n",
    "\n",
    "    break"
   ]
  },
  {
   "attachments": {},
   "cell_type": "markdown",
   "metadata": {},
   "source": [
    "### Visualize"
   ]
  },
  {
   "cell_type": "code",
   "execution_count": 8,
   "metadata": {},
   "outputs": [
    {
     "data": {
      "text/plain": [
       "<matplotlib.legend.Legend at 0x15543c09a760>"
      ]
     },
     "execution_count": 8,
     "metadata": {},
     "output_type": "execute_result"
    },
    {
     "data": {
      "image/png": "[encoded data removed]",
      "text/plain": [
       "<Figure size 640x480 with 1 Axes>"
      ]
     },
     "metadata": {},
     "output_type": "display_data"
    }
   ],
   "source": [
    "for pid in batch.particle_id.unique()[:10]:\n",
    "    pid_edges = batch.track_edges[:, batch.particle_id == pid]\n",
    "    x = batch.x[pid_edges]\n",
    "    y = batch.y[pid_edges]\n",
    "    plt.scatter(x[0], y[0], label=pid)\n",
    "plt.legend()"
   ]
  },
  {
   "cell_type": "code",
   "execution_count": 9,
   "metadata": {},
   "outputs": [],
   "source": [
    "batch.edge_index, embedding = model.get_training_edges(batch)"
   ]
  },
  {
   "cell_type": "code",
   "execution_count": 10,
   "metadata": {},
   "outputs": [],
   "source": [
    "model.apply_embedding(batch, embedding, batch.edge_index)"
   ]
  },
  {
   "cell_type": "code",
   "execution_count": 11,
   "metadata": {},
   "outputs": [],
   "source": [
    "batch.edge_index, batch.y, truth_map, true_edges = model.get_truth(batch, batch.edge_index)"
   ]
  },
  {
   "cell_type": "code",
   "execution_count": 12,
   "metadata": {},
   "outputs": [
    {
     "data": {
      "text/plain": [
       "(torch.Size([797054]), tensor(18459))"
      ]
     },
     "execution_count": 12,
     "metadata": {},
     "output_type": "execute_result"
    }
   ],
   "source": [
    "batch.y.shape, batch.y.sum()"
   ]
  },
  {
   "cell_type": "code",
   "execution_count": 13,
   "metadata": {},
   "outputs": [
    {
     "data": {
      "text/plain": [
       "torch.Size([2, 29174])"
      ]
     },
     "execution_count": 13,
     "metadata": {},
     "output_type": "execute_result"
    }
   ],
   "source": [
    "true_edges.shape"
   ]
  },
  {
   "cell_type": "code",
   "execution_count": 14,
   "metadata": {},
   "outputs": [],
   "source": [
    "weights = model.get_weights(batch, true_edges, truth_map)"
   ]
  },
  {
   "cell_type": "code",
   "execution_count": 17,
   "metadata": {},
   "outputs": [
    {
     "data": {
      "text/plain": [
       "tensor(16030)"
      ]
     },
     "execution_count": 17,
     "metadata": {},
     "output_type": "execute_result"
    }
   ],
   "source": [
    "((batch.y == 1.0) & (weights > 0.0)).sum()"
   ]
  },
  {
   "cell_type": "code",
   "execution_count": 18,
   "metadata": {},
   "outputs": [
    {
     "data": {
      "text/plain": [
       "tensor(778595)"
      ]
     },
     "execution_count": 18,
     "metadata": {},
     "output_type": "execute_result"
    }
   ],
   "source": [
    "((batch.y == 0.0) & (weights > 0.0)).sum()"
   ]
  },
  {
   "cell_type": "code",
   "execution_count": 20,
   "metadata": {},
   "outputs": [
    {
     "data": {
      "text/plain": [
       "tensor(2429)"
      ]
     },
     "execution_count": 20,
     "metadata": {},
     "output_type": "execute_result"
    }
   ],
   "source": [
    "((batch.y == 1.0) & (weights <= 0.0)).sum()"
   ]
  },
  {
   "cell_type": "code",
   "execution_count": 135,
   "metadata": {},
   "outputs": [
    {
     "data": {
      "text/plain": [
       "tensor(False)"
      ]
     },
     "execution_count": 135,
     "metadata": {},
     "output_type": "execute_result"
    }
   ],
   "source": [
    "(weights == 1.0).all()"
   ]
  },
  {
   "cell_type": "code",
   "execution_count": 136,
   "metadata": {},
   "outputs": [
    {
     "data": {
      "text/plain": [
       "tensor(0.0166, grad_fn=<AddBackward0>)"
      ]
     },
     "execution_count": 136,
     "metadata": {},
     "output_type": "execute_result"
    }
   ],
   "source": [
    "model.loss_function(batch, embedding, weights)"
   ]
  },
  {
   "attachments": {},
   "cell_type": "markdown",
   "metadata": {},
   "source": [
    "## Debug Weighting"
   ]
  },
  {
   "cell_type": "code",
   "execution_count": 7,
   "metadata": {},
   "outputs": [
    {
     "ename": "NameError",
     "evalue": "name 'true_edges' is not defined",
     "output_type": "error",
     "traceback": [
      "\u001b[0;31m---------------------------------------------------------------------------\u001b[0m",
      "\u001b[0;31mNameError\u001b[0m                                 Traceback (most recent call last)",
      "Cell \u001b[0;32mIn [7], line 1\u001b[0m\n\u001b[0;32m----> 1\u001b[0m weights \u001b[39m=\u001b[39m handle_weighting(batch, model\u001b[39m.\u001b[39mhparams[\u001b[39m\"\u001b[39m\u001b[39mweighting\u001b[39m\u001b[39m\"\u001b[39m], true_edges\u001b[39m=\u001b[39mtrue_edges, truth_map\u001b[39m=\u001b[39mtruth_map)\n",
      "\u001b[0;31mNameError\u001b[0m: name 'true_edges' is not defined"
     ]
    }
   ],
   "source": [
    "weights = handle_weighting(batch, model.hparams[\"weighting\"], true_edges=true_edges, truth_map=truth_map)"
   ]
  },
  {
   "cell_type": "code",
   "execution_count": 89,
   "metadata": {},
   "outputs": [],
   "source": [
    "pred_edges = batch.edge_index\n",
    "truth = batch.y"
   ]
  },
  {
   "cell_type": "code",
   "execution_count": 90,
   "metadata": {},
   "outputs": [],
   "source": [
    "weights = torch.zeros_like(pred_edges[0], dtype=torch.float)\n",
    "weights[truth == 0] = 1.0"
   ]
  },
  {
   "cell_type": "code",
   "execution_count": 96,
   "metadata": {},
   "outputs": [],
   "source": [
    "weight_spec = model.hparams[\"weighting\"][0]\n",
    "weight_val = weight_spec[\"weight\"]"
   ]
  },
  {
   "cell_type": "code",
   "execution_count": 104,
   "metadata": {},
   "outputs": [
    {
     "data": {
      "text/plain": [
       "tensor(1571465)"
      ]
     },
     "execution_count": 104,
     "metadata": {},
     "output_type": "execute_result"
    }
   ],
   "source": [
    "get_weight_mask(batch, pred_edges, weight_spec[\"conditions\"], true_edges, truth_map).sum()"
   ]
  },
  {
   "cell_type": "code",
   "execution_count": 105,
   "metadata": {},
   "outputs": [],
   "source": [
    "weight_spec = model.hparams[\"weighting\"][1]\n",
    "weight_val = weight_spec[\"weight\"]"
   ]
  },
  {
   "cell_type": "code",
   "execution_count": 106,
   "metadata": {},
   "outputs": [
    {
     "data": {
      "text/plain": [
       "tensor(29174)"
      ]
     },
     "execution_count": 106,
     "metadata": {},
     "output_type": "execute_result"
    }
   ],
   "source": [
    "get_weight_mask(batch, pred_edges, weight_spec[\"conditions\"], true_edges, truth_map).sum()"
   ]
  },
  {
   "cell_type": "code",
   "execution_count": 122,
   "metadata": {},
   "outputs": [],
   "source": [
    "graph_mask = torch.ones_like(pred_edges[0], dtype=torch.bool)"
   ]
  },
  {
   "cell_type": "code",
   "execution_count": 123,
   "metadata": {},
   "outputs": [
    {
     "name": "stdout",
     "output_type": "stream",
     "text": [
      "y True\n",
      "torch.Size([1600639]) tensor(29174)\n",
      "torch.Size([1600639]) tensor(29174)\n",
      "torch.Size([1600639]) tensor(29174)\n",
      "pt [1000, inf]\n",
      "torch.Size([14587]) tensor(14587)\n",
      "torch.Size([1600639]) tensor(29174)\n",
      "torch.Size([1600639]) tensor(29174)\n",
      "nhits [3, inf]\n",
      "torch.Size([14587]) tensor(14530)\n",
      "torch.Size([1600639]) tensor(29060)\n",
      "torch.Size([1600639]) tensor(29060)\n",
      "primary True\n",
      "torch.Size([14587]) tensor(12510)\n",
      "torch.Size([1600639]) tensor(25020)\n",
      "torch.Size([1600639]) tensor(24968)\n",
      "pdgId ['not_in', [11, -11]]\n",
      "torch.Size([14587]) tensor(14061)\n",
      "torch.Size([1600639]) tensor(28122)\n",
      "torch.Size([1600639]) tensor(24900)\n"
     ]
    }
   ],
   "source": [
    "for condition_key, condition_val in weight_spec[\"conditions\"].items():\n",
    "    print(condition_key, condition_val)\n",
    "    assert condition_key in batch.keys, f\"Condition key {condition_key} not found in event keys {batch.keys}\"\n",
    "    condition_lambda = get_condition_lambda(condition_key, condition_val)\n",
    "    value_mask = condition_lambda(batch)\n",
    "    print(value_mask.shape, value_mask.sum())\n",
    "    edgelike_mask = map_value_to_edges(batch, value_mask, pred_edges, true_edges, truth_map)\n",
    "    print(edgelike_mask.shape, edgelike_mask.sum())\n",
    "    graph_mask &= edgelike_mask\n",
    "    print(graph_mask.shape, graph_mask.sum())"
   ]
  },
  {
   "cell_type": "code",
   "execution_count": 113,
   "metadata": {},
   "outputs": [],
   "source": [
    "condition_key = \"nhits\"\n",
    "condition_val = [3, np.inf]"
   ]
  },
  {
   "cell_type": "code",
   "execution_count": 114,
   "metadata": {},
   "outputs": [],
   "source": [
    "condition_lambda = get_condition_lambda(condition_key, condition_val)\n",
    "value_mask = condition_lambda(batch)"
   ]
  },
  {
   "cell_type": "code",
   "execution_count": 116,
   "metadata": {},
   "outputs": [
    {
     "data": {
      "text/plain": [
       "False"
      ]
     },
     "execution_count": 116,
     "metadata": {},
     "output_type": "execute_result"
    }
   ],
   "source": [
    "true_edges is not None and value_mask.shape[0] in [true_edges.shape[1], 2 * true_edges.shape[1]]"
   ]
  },
  {
   "cell_type": "code",
   "execution_count": 120,
   "metadata": {},
   "outputs": [
    {
     "data": {
      "text/plain": [
       "29174"
      ]
     },
     "execution_count": 120,
     "metadata": {},
     "output_type": "execute_result"
    }
   ],
   "source": [
    "value_mask.shape[0] * 2"
   ]
  },
  {
   "cell_type": "code",
   "execution_count": 121,
   "metadata": {},
   "outputs": [
    {
     "data": {
      "text/plain": [
       "29174"
      ]
     },
     "execution_count": 121,
     "metadata": {},
     "output_type": "execute_result"
    }
   ],
   "source": [
    "true_edges.shape[1]"
   ]
  },
  {
   "attachments": {},
   "cell_type": "markdown",
   "metadata": {},
   "source": [
    "## Debug Metrics"
   ]
  },
  {
   "cell_type": "markdown",
   "metadata": {},
   "source": []
  },
  {
   "cell_type": "code",
   "execution_count": 8,
   "metadata": {},
   "outputs": [],
   "source": [
    "embedding = model.apply_embedding(batch)"
   ]
  },
  {
   "cell_type": "code",
   "execution_count": 9,
   "metadata": {},
   "outputs": [],
   "source": [
    "batch.edge_index = build_edges(\n",
    "            query=embedding, database=embedding, indices=None, r_max=0.1, k_max=10, backend=\"FRNN\"\n",
    "        )"
   ]
  },
  {
   "cell_type": "code",
   "execution_count": 10,
   "metadata": {},
   "outputs": [],
   "source": [
    "batch.edge_index, batch.y, truth_map, true_edges = model.get_truth(batch, batch.edge_index)"
   ]
  },
  {
   "cell_type": "code",
   "execution_count": 11,
   "metadata": {},
   "outputs": [],
   "source": [
    "weights = model.get_weights(batch, true_edges, truth_map)"
   ]
  },
  {
   "cell_type": "code",
   "execution_count": 12,
   "metadata": {},
   "outputs": [
    {
     "data": {
      "text/plain": [
       "(torch.Size([143468]), tensor(141932))"
      ]
     },
     "execution_count": 12,
     "metadata": {},
     "output_type": "execute_result"
    }
   ],
   "source": [
    "weights.shape, (weights > 0).sum()"
   ]
  },
  {
   "cell_type": "code",
   "execution_count": 34,
   "metadata": {},
   "outputs": [],
   "source": [
    "signal_true_edges = build_signal_edges(batch, model.hparams[\"weighting\"], true_edges)"
   ]
  },
  {
   "cell_type": "code",
   "execution_count": 35,
   "metadata": {},
   "outputs": [
    {
     "data": {
      "text/plain": [
       "torch.Size([2, 29174])"
      ]
     },
     "execution_count": 35,
     "metadata": {},
     "output_type": "execute_result"
    }
   ],
   "source": [
    "true_edges.shape"
   ]
  },
  {
   "cell_type": "code",
   "execution_count": 36,
   "metadata": {},
   "outputs": [
    {
     "data": {
      "text/plain": [
       "torch.Size([2, 24900])"
      ]
     },
     "execution_count": 36,
     "metadata": {},
     "output_type": "execute_result"
    }
   ],
   "source": [
    "signal_true_edges.shape"
   ]
  },
  {
   "cell_type": "code",
   "execution_count": 32,
   "metadata": {},
   "outputs": [],
   "source": [
    "signal_mask = torch.zeros_like(true_edges[0], dtype=torch.bool)"
   ]
  },
  {
   "cell_type": "code",
   "execution_count": 33,
   "metadata": {},
   "outputs": [
    {
     "name": "stdout",
     "output_type": "stream",
     "text": [
      "{'weight': 1.0, 'conditions': {'y': False}}\n",
      "{'weight': -1.0, 'conditions': {'y': True, 'pt': [0.0, 800.0]}}\n",
      "{'weight': -1.0, 'conditions': {'y': True, 'primary': False}}\n",
      "{'weight': 2.0, 'conditions': {'y': True, 'pt': [1000, inf], 'nhits': [3, inf], 'primary': True, 'pdgId': ['not_in', [11, -11]]}}\n",
      "torch.Size([29174]) tensor(24900)\n",
      "torch.Size([29174]) tensor(24900)\n"
     ]
    }
   ],
   "source": [
    "for weight_spec in model.hparams[\"weighting\"]:\n",
    "    print(weight_spec)\n",
    "    if not weight_spec[\"conditions\"][\"y\"] or weight_spec[\"weight\"] <= 0.:\n",
    "        continue\n",
    "    weight_mask = get_weight_mask(batch, true_edges, weight_spec[\"conditions\"])\n",
    "    print(weight_mask.shape, weight_mask.sum())\n",
    "    signal_mask |= weight_mask\n",
    "    print(signal_mask.shape, signal_mask.sum())"
   ]
  },
  {
   "cell_type": "code",
   "execution_count": 37,
   "metadata": {},
   "outputs": [
    {
     "data": {
      "text/plain": [
       "False"
      ]
     },
     "execution_count": 37,
     "metadata": {},
     "output_type": "execute_result"
    }
   ],
   "source": [
    "not weight_spec[\"conditions\"][\"y\"] or weight_spec[\"weight\"] <= 0."
   ]
  },
  {
   "cell_type": "code",
   "execution_count": 159,
   "metadata": {},
   "outputs": [],
   "source": [
    "weight_spec = model.hparams[\"weighting\"][1]\n",
    "weight_val = weight_spec[\"weight\"]"
   ]
  },
  {
   "cell_type": "code",
   "execution_count": 160,
   "metadata": {},
   "outputs": [
    {
     "name": "stdout",
     "output_type": "stream",
     "text": [
      "y True\n",
      "torch.Size([1577186]) tensor(21566)\n",
      "torch.Size([29174]) tensor(29174)\n",
      "torch.Size([29174]) tensor(29174)\n",
      "pt [1000, inf]\n",
      "torch.Size([14587]) tensor(14587)\n",
      "torch.Size([29174]) tensor(29174)\n",
      "torch.Size([29174]) tensor(29174)\n",
      "nhits [3, inf]\n",
      "torch.Size([14587]) tensor(14530)\n",
      "torch.Size([29174]) tensor(29060)\n",
      "torch.Size([29174]) tensor(29060)\n",
      "primary True\n",
      "torch.Size([14587]) tensor(12510)\n",
      "torch.Size([29174]) tensor(25020)\n",
      "torch.Size([29174]) tensor(24968)\n",
      "pdgId ['not_in', [11, -11]]\n",
      "torch.Size([14587]) tensor(14061)\n",
      "torch.Size([29174]) tensor(28122)\n",
      "torch.Size([29174]) tensor(24900)\n"
     ]
    }
   ],
   "source": [
    "graph_mask = torch.ones_like(true_edges[0], dtype=torch.bool)\n",
    "\n",
    "for condition_key, condition_val in weight_spec[\"conditions\"].items():\n",
    "    print(condition_key, condition_val)\n",
    "    assert condition_key in batch.keys, f\"Condition key {condition_key} not found in event keys {batch.keys}\"\n",
    "    condition_lambda = get_condition_lambda(condition_key, condition_val)\n",
    "    value_mask = condition_lambda(batch)\n",
    "    print(value_mask.shape, value_mask.sum())\n",
    "    edgelike_mask = map_value_to_edges(batch, value_mask, true_edges, None, None)\n",
    "    print(edgelike_mask.shape, edgelike_mask.sum())\n",
    "    graph_mask &= edgelike_mask\n",
    "    print(graph_mask.shape, graph_mask.sum())"
   ]
  },
  {
   "cell_type": "code",
   "execution_count": 164,
   "metadata": {},
   "outputs": [
    {
     "data": {
      "text/plain": [
       "tensor(24900)"
      ]
     },
     "execution_count": 164,
     "metadata": {},
     "output_type": "execute_result"
    }
   ],
   "source": [
    "signal_mask.sum()"
   ]
  },
  {
   "cell_type": "code",
   "execution_count": null,
   "metadata": {},
   "outputs": [],
   "source": []
  },
  {
   "attachments": {},
   "cell_type": "markdown",
   "metadata": {},
   "source": [
    "## Building Undirected Graph"
   ]
  },
  {
   "cell_type": "markdown",
   "metadata": {},
   "source": []
  },
  {
   "cell_type": "code",
   "execution_count": 26,
   "metadata": {},
   "outputs": [],
   "source": [
    "t = torch.tensor([\n",
    "    [0, 1],\n",
    "    [1, 2]\n",
    "])\n",
    "e = torch.tensor([\n",
    "    [0, 1, 2, 1],\n",
    "    [1, 0, 1, 2]\n",
    "])\n",
    "mapstar = torch.tensor([0, 3, 1, 2])\n",
    "tstar = torch.tensor([\n",
    "    [0, 1, 1, 2],\n",
    "    [1, 2, 0, 1]\n",
    "])\n",
    "y = torch.tensor([1, 1, 0, 0])"
   ]
  },
  {
   "cell_type": "code",
   "execution_count": 27,
   "metadata": {},
   "outputs": [],
   "source": [
    "e[:, e[0] > e[1]] = e[:, e[0] > e[1]].flip(0)"
   ]
  },
  {
   "cell_type": "code",
   "execution_count": 28,
   "metadata": {},
   "outputs": [],
   "source": [
    "estar, inverse = e.unique(return_inverse=True, dim=-1)"
   ]
  },
  {
   "cell_type": "code",
   "execution_count": 29,
   "metadata": {},
   "outputs": [
    {
     "data": {
      "text/plain": [
       "tensor([[0, 0, 1, 1],\n",
       "        [1, 1, 2, 2]])"
      ]
     },
     "execution_count": 29,
     "metadata": {},
     "output_type": "execute_result"
    }
   ],
   "source": [
    "e"
   ]
  },
  {
   "cell_type": "code",
   "execution_count": 30,
   "metadata": {},
   "outputs": [
    {
     "data": {
      "text/plain": [
       "(tensor([[0, 1],\n",
       "         [1, 2]]),\n",
       " tensor([0, 0, 1, 1]))"
      ]
     },
     "execution_count": 30,
     "metadata": {},
     "output_type": "execute_result"
    }
   ],
   "source": [
    "estar, inverse"
   ]
  },
  {
   "cell_type": "code",
   "execution_count": 31,
   "metadata": {},
   "outputs": [
    {
     "data": {
      "text/plain": [
       "tensor([0, 1, 0, 1])"
      ]
     },
     "execution_count": 31,
     "metadata": {},
     "output_type": "execute_result"
    }
   ],
   "source": [
    "inverse[mapstar]"
   ]
  },
  {
   "cell_type": "code",
   "execution_count": 33,
   "metadata": {},
   "outputs": [
    {
     "data": {
      "text/plain": [
       "tensor([0, 0, 0, 0])"
      ]
     },
     "execution_count": 33,
     "metadata": {},
     "output_type": "execute_result"
    }
   ],
   "source": [
    "# Scatter y to inverse\n",
    "torch.scatter(y, 0, inverse, 0,"
   ]
  },
  {
   "cell_type": "code",
   "execution_count": 38,
   "metadata": {},
   "outputs": [
    {
     "data": {
      "text/plain": [
       "tensor([0, 1, 0, 0])"
      ]
     },
     "execution_count": 38,
     "metadata": {},
     "output_type": "execute_result"
    }
   ],
   "source": [
    "y.scatter(0, inverse, inverse)"
   ]
  },
  {
   "cell_type": "code",
   "execution_count": 42,
   "metadata": {},
   "outputs": [
    {
     "data": {
      "text/plain": [
       "tensor([1, 0])"
      ]
     },
     "execution_count": 42,
     "metadata": {},
     "output_type": "execute_result"
    }
   ],
   "source": [
    "torch.zeros_like(y[:2]).scatter(0, inverse, y)"
   ]
  },
  {
   "cell_type": "code",
   "execution_count": 51,
   "metadata": {},
   "outputs": [],
   "source": [
    "a = torch.tensor([0, 1])"
   ]
  },
  {
   "cell_type": "code",
   "execution_count": 52,
   "metadata": {},
   "outputs": [
    {
     "name": "stdout",
     "output_type": "stream",
     "text": [
      "YES\n"
     ]
    }
   ],
   "source": [
    "if a.shape:\n",
    "    print(\"YES\")"
   ]
  },
  {
   "cell_type": "code",
   "execution_count": null,
   "metadata": {},
   "outputs": [],
   "source": []
  }
 ],
 "metadata": {
  "kernelspec": {
   "display_name": "gnn4itk-cori",
   "language": "python",
   "name": "python3"
  },
  "language_info": {
   "codemirror_mode": {
    "name": "ipython",
    "version": 3
   },
   "file_extension": ".py",
   "mimetype": "text/x-python",
   "name": "python",
   "nbconvert_exporter": "python",
   "pygments_lexer": "ipython3",
   "version": "3.9.13"
  },
  "orig_nbformat": 4,
  "vscode": {
   "interpreter": {
    "hash": "bd7886ead43752cee65d7efee0b79e0cc77ed96d7f268596fd6ca2aeee050109"
   }
  }
 },
 "nbformat": 4,
 "nbformat_minor": 2
}
