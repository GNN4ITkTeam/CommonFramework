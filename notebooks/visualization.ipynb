{
 "cells": [
  {
   "cell_type": "code",
   "execution_count": 1,
   "id": "1acf68e9-c30b-4df7-b64b-f89ad4f90256",
   "metadata": {
    "tags": []
   },
   "outputs": [],
   "source": [
    "%load_ext autoreload\n",
    "%autoreload 2"
   ]
  },
  {
   "cell_type": "code",
   "execution_count": 2,
   "id": "2883ad9c-e65b-4c1e-b8ff-c3f2dcecb88c",
   "metadata": {
    "tags": []
   },
   "outputs": [
    {
     "name": "stderr",
     "output_type": "stream",
     "text": [
      "WARNING:root:FRNN is available\n"
     ]
    }
   ],
   "source": [
    "import gnn4itk_cf as gnn\n",
    "from gnn4itk_cf.stages.track_building.utils import evaluate_tracking, get_statistics, build_pred_bgraph, build_truth_bgraph, match_bgraphs, PartialData\n",
    "from gnn4itk_cf.stages.graph_construction.models.utils import graph_intersection\n",
    "from torch_geometric.utils import to_scipy_sparse_matrix, from_scipy_sparse_matrix\n",
    "from torch_scatter import scatter_add, scatter_mean\n",
    "from gnn4itk_cf.utils.plotting_utils import get_ratio\n",
    "from gnn4itk_cf.utils.ml_utils import make_mlp\n",
    "import yaml\n",
    "import torch\n",
    "import os\n",
    "import numpy as np\n",
    "import pandas as pd\n",
    "import torch.nn as nn\n",
    "import torch.nn.functional as F\n",
    "from torch.utils.checkpoint import checkpoint\n",
    "from torch_geometric.data import Data\n",
    "from scipy.sparse.csgraph import connected_components, min_weight_full_bipartite_matching\n",
    "from scipy.sparse import coo_matrix, csr_matrix\n",
    "from typing import Dict, Tuple, Optional, Sequence, Union\n",
    "from tqdm import tqdm\n",
    "import matplotlib\n",
    "import matplotlib.pyplot as plt\n",
    "import seaborn as sns\n",
    "from atlasify import atlasify\n",
    "GRAPHS_DIR = \"/global/cfs/cdirs/m2616/pmtuan/inferred_data/igcn_14999421_epoch66_redo/testset\"\n",
    "TRACKS_DIR = \"/global/cfs/cdirs/m2616/pmtuan/inferred_data/igcn_14999421_epoch66_redo_track_candidates_0.5/testset\""
   ]
  },
  {
   "cell_type": "code",
   "execution_count": 3,
   "id": "ca578735-00c7-49d4-8f29-5a276c35b6b2",
   "metadata": {},
   "outputs": [],
   "source": [
    "paths = []\n",
    "for path in os.listdir(TRACKS_DIR):\n",
    "    paths.append(os.path.join(TRACKS_DIR, path))\n",
    "event = torch.load(paths[0])\n",
    "tracks = torch.stack([torch.arange(event.labels.shape[0])[event.labels >= 0], event.labels[event.labels >= 0]])"
   ]
  },
  {
   "cell_type": "markdown",
   "id": "60e60091-6172-46e6-816f-696967eb98e6",
   "metadata": {
    "jp-MarkdownHeadingCollapsed": true,
    "tags": []
   },
   "source": [
    "## High Level Statistics"
   ]
  },
  {
   "cell_type": "code",
   "execution_count": 9,
   "id": "81fae0b3-a234-4b81-8a60-f49d314af2e3",
   "metadata": {
    "tags": []
   },
   "outputs": [
    {
     "data": {
      "text/plain": [
       "tensor([], dtype=torch.int64)"
      ]
     },
     "execution_count": 9,
     "metadata": {},
     "output_type": "execute_result"
    }
   ],
   "source": [
    "# def select_connected(event, matching_df, track_id):\n",
    "graph = event.labels[event.edge_index[:, event.scores > 0.01]]\n",
    "graph = graph[:, (graph != -1).all(0) & (graph[0] != graph[1])]\n",
    "track_ids = graph[:, (graph == 27973).any(0)].unique()\n",
    "track_ids"
   ]
  },
  {
   "cell_type": "code",
   "execution_count": 10,
   "id": "c5a3be90-71ed-47ab-9523-a1c96b7a466a",
   "metadata": {
    "tags": []
   },
   "outputs": [
    {
     "data": {
      "image/png": "[encoded data removed]",
      "text/plain": [
       "<Figure size 640x480 with 1 Axes>"
      ]
     },
     "metadata": {},
     "output_type": "display_data"
    }
   ],
   "source": [
    "fig, ax = plt.subplots()\n",
    "ax.hist(event.output, bins = 100)\n",
    "ax.set_yscale(\"log\")\n",
    "plt.show()"
   ]
  },
  {
   "cell_type": "code",
   "execution_count": 12,
   "id": "f034c3f0-0f73-4569-b605-d9adab2b7231",
   "metadata": {
    "tags": []
   },
   "outputs": [],
   "source": [
    "def get_dfs(event):\n",
    "    edge_mask = torch.rand(event.edge_index.shape[1]) >= 0.\n",
    "    edges = event.edge_index[:, (event.scores > 0.99) & edge_mask].numpy()\n",
    "    graph = coo_matrix((np.ones(edges.shape[1]), edges), shape = (edges.max() + 1, edges.max() + 1)).tocsr()\n",
    "    _, track_id = connected_components(graph, directed=False)\n",
    "\n",
    "    hid = np.arange(edges.max() + 1)\n",
    "    tight_track_df = pd.DataFrame({\n",
    "        \"hid\": hid,\n",
    "        \"tight_id\": track_id,\n",
    "        \"r\": event.r[hid],\n",
    "        \"x\": event.r[hid] * torch.cos(event.phi[hid]),\n",
    "        \"y\": event.r[hid] * torch.sin(event.phi[hid]),\n",
    "    })\n",
    "\n",
    "    tight_track_df = tight_track_df.merge(tight_track_df.groupby(\"tight_id\").size().rename(\"nhits\"), on=\"tight_id\")\n",
    "    tight_track_df = tight_track_df[tight_track_df[\"nhits\"] >= 9]\n",
    "    \n",
    "    hid = torch.cat([event.hit_id[event.track_edges[0]], event.hit_id[event.track_edges[1]]])\n",
    "    edge_scores = torch.zeros(event.truth_map.shape)\n",
    "    edge_scores[event.truth_map >= 0] = event.scores[event.truth_map[event.truth_map >= 0]]\n",
    "    truth_df = pd.DataFrame({\n",
    "        \"hid\": hid,\n",
    "        \"pid\": event.particle_id.repeat(2),\n",
    "        \"edge_scores\": edge_scores.repeat(2),\n",
    "        \"nhits\": event.nhits.repeat(2),\n",
    "        \"pt\": event.pt.repeat(2),\n",
    "        \"x\": event.r[hid]* torch.cos(event.phi[hid]),\n",
    "        \"y\": event.r[hid]* torch.sin(event.phi[hid]),\n",
    "        \"r\": event.r[hid]\n",
    "    })\n",
    "\n",
    "    truth_df = truth_df[(truth_df[\"nhits\"] >= 4) & (truth_df[\"pt\"] > 1000)]\n",
    "    truth_df = truth_df.drop_duplicates([\"hid\", \"pid\"], ignore_index = True)\n",
    "    return tight_track_df, truth_df"
   ]
  },
  {
   "cell_type": "code",
   "execution_count": 13,
   "id": "e2df7aef-6f03-4457-b2ed-f3dee2bf27fc",
   "metadata": {},
   "outputs": [],
   "source": [
    "def chi_square(df):\n",
    "    r2 = df[\"r\"] ** 2\n",
    "    u = df[\"x\"] / r2\n",
    "    v = df[\"y\"] / r2\n",
    "    _, residuals, _, _, _ = np.polyfit(u, v, 2, full = True)\n",
    "    return pd.Series(residuals / (len(df) - 2), index=[\"chi_square\"])\n",
    "tight_track_df, truth_df = get_dfs(event)"
   ]
  },
  {
   "cell_type": "code",
   "execution_count": 14,
   "id": "d677507d-b963-40e7-9f76-79f251a17bf2",
   "metadata": {
    "tags": []
   },
   "outputs": [],
   "source": [
    "data = truth_df.groupby(\"pid\").agg({\"edge_scores\": \"min\"}).reset_index()\n",
    "data = data.merge(truth_df.groupby(\"pid\").apply(chi_square).reset_index(), on=\"pid\")\n",
    "data = data.merge(truth_df.groupby(\"pid\").agg({\"nhits\": \"mean\"}).reset_index(), on=\"pid\")\n",
    "data[\"log_chi_square\"] = np.log(data[\"chi_square\"])"
   ]
  },
  {
   "cell_type": "code",
   "execution_count": 15,
   "id": "fdeabc92-75a9-4b4c-9af6-55e4937b8b1f",
   "metadata": {
    "tags": []
   },
   "outputs": [
    {
     "data": {
      "text/plain": [
       "<seaborn.axisgrid.JointGrid at 0x7f5fab9e7250>"
      ]
     },
     "execution_count": 15,
     "metadata": {},
     "output_type": "execute_result"
    },
    {
     "data": {
      "image/png": "[encoded data removed]",
      "text/plain": [
       "<Figure size 600x600 with 3 Axes>"
      ]
     },
     "metadata": {},
     "output_type": "display_data"
    }
   ],
   "source": [
    "sns.jointplot(data, x=\"edge_scores\", y=\"log_chi_square\", kind=\"kde\")"
   ]
  },
  {
   "cell_type": "code",
   "execution_count": 16,
   "id": "e0e56b43-cf0d-4a6e-8421-e9a7b8d58bd6",
   "metadata": {
    "tags": []
   },
   "outputs": [
    {
     "name": "stdout",
     "output_type": "stream",
     "text": [
      "CPU times: user 431 ms, sys: 19.3 ms, total: 450 ms\n",
      "Wall time: 437 ms\n"
     ]
    },
    {
     "data": {
      "text/plain": [
       "chi_square    0.094836\n",
       "dtype: float64"
      ]
     },
     "execution_count": 16,
     "metadata": {},
     "output_type": "execute_result"
    }
   ],
   "source": [
    "%%time\n",
    "(tight_track_df.groupby(\"tight_id\").apply(chi_square) > 1e-9).mean()"
   ]
  },
  {
   "cell_type": "code",
   "execution_count": 17,
   "id": "dd597ba3-d237-447c-ad42-2889940c047d",
   "metadata": {
    "tags": []
   },
   "outputs": [
    {
     "name": "stdout",
     "output_type": "stream",
     "text": [
      "CPU times: user 605 ms, sys: 34.2 ms, total: 639 ms\n",
      "Wall time: 615 ms\n"
     ]
    },
    {
     "data": {
      "text/plain": [
       "chi_square    0.117057\n",
       "dtype: float64"
      ]
     },
     "execution_count": 17,
     "metadata": {},
     "output_type": "execute_result"
    }
   ],
   "source": [
    "%%time\n",
    "(truth_df.groupby(\"pid\").apply(chi_square) > 1e-9).mean()"
   ]
  },
  {
   "cell_type": "markdown",
   "id": "c1debbea-1e55-46f8-bae3-f51a6a2bc413",
   "metadata": {
    "jp-MarkdownHeadingCollapsed": true,
    "tags": []
   },
   "source": [
    "## Idealized HGNN Tracking"
   ]
  },
  {
   "cell_type": "code",
   "execution_count": 3,
   "id": "0104e413-c6f8-4121-9f3c-62246cf7e094",
   "metadata": {
    "tags": []
   },
   "outputs": [],
   "source": [
    "def idealized_hgnn_tracking(event, loose_cut, tight_cut, min_hits, random_drop = 0.):\n",
    "    edge_mask = torch.rand(event.edge_index.shape[1]) >= random_drop\n",
    "    edges = event.edge_index[:, (event.scores > tight_cut) & edge_mask].numpy()\n",
    "    graph = coo_matrix((np.ones(edges.shape[1]), edges), shape = (edges.max() + 1, edges.max() + 1)).tocsr()\n",
    "    _, track_id = connected_components(graph, directed=False)\n",
    "\n",
    "    tight_track_df = pd.DataFrame({\n",
    "        \"hid\": np.arange(edges.max() + 1),\n",
    "        \"tight_id\": track_id,\n",
    "    })\n",
    "\n",
    "    tight_track_df = tight_track_df.merge(tight_track_df.groupby(\"tight_id\").size().rename(\"nhits\"), on=\"tight_id\")\n",
    "    tight_track_df = tight_track_df[tight_track_df[\"nhits\"] >= min_hits]\n",
    "\n",
    "    edges = event.edge_index[:, (event.scores > loose_cut) & edge_mask].numpy()\n",
    "    graph = coo_matrix((np.ones(edges.shape[1]), edges), shape = (edges.max() + 1, edges.max() + 1)).tocsr()\n",
    "    _, track_id = connected_components(graph, directed=False)\n",
    "\n",
    "    loose_track_df = pd.DataFrame({\n",
    "        \"hid\": np.arange(edges.max() + 1),\n",
    "        \"loose_id\": track_id\n",
    "    })\n",
    "    loose_track_df[\"is_isolated\"] = ~ loose_track_df.duplicated(subset=[\"loose_id\"], keep=False)\n",
    "\n",
    "    isolated_hits = loose_track_df[loose_track_df[\"is_isolated\"]][\"hid\"].drop_duplicates()\n",
    "    passed_hits = tight_track_df[\"hid\"].drop_duplicates()\n",
    "\n",
    "    truth_df = pd.DataFrame({\n",
    "        \"hid\": torch.cat([event.hit_id[event.track_edges[0]], event.hit_id[event.track_edges[1]]]),\n",
    "        \"pid\": event.particle_id.repeat(2),\n",
    "    })\n",
    "\n",
    "    truth_df = truth_df.drop_duplicates([\"hid\", \"pid\"], ignore_index = True)\n",
    "    truth_df = truth_df[~truth_df[\"hid\"].isin(isolated_hits) & ~truth_df[\"hid\"].isin(passed_hits)]\n",
    "    tracks = np.stack([truth_df.hid, truth_df.pid + tight_track_df.tight_id.max() + 1])\n",
    "    tracks = np.concatenate([tracks, np.stack([tight_track_df.hid, tight_track_df.tight_id])], axis = 1)\n",
    "    return torch.as_tensor(tracks), isolated_hits.size / event[\"hit_id\"].shape[0]"
   ]
  },
  {
   "cell_type": "code",
   "execution_count": null,
   "id": "73f08279-ea69-4fd8-bd89-3bcbf22e6bb7",
   "metadata": {
    "tags": []
   },
   "outputs": [
    {
     "name": "stderr",
     "output_type": "stream",
     "text": [
      "  4%|▍         | 42/1000 [00:42<15:10,  1.05it/s]"
     ]
    }
   ],
   "source": [
    "bins = np.linspace(1000, 20000, 20)\n",
    "all_stats = {}\n",
    "hgnn_stats = {}\n",
    "cut_stats = {}\n",
    "\n",
    "def evaluate_track(event, track):\n",
    "    matching_df, truth_df = evaluate_tracking(\n",
    "        event, \n",
    "        track,\n",
    "        min_hits = 5,\n",
    "        selection = {\n",
    "            \"pt\": (\"range\", [1000, None]),\n",
    "            \"eta\": (\"range\", [-4, 4]),\n",
    "            \"primary\": (\"isin\", [1]), \n",
    "            \"nhits\": (\"range\", [7, None]),\n",
    "            \"pdgId\": (\"notin\", [11, -11]),\n",
    "        },\n",
    "        target_selection = {\n",
    "            \"pt\": (\"range\", [1000, None]),\n",
    "            \"nhits\": (\"range\", [3, None]),\n",
    "        },\n",
    "        matching_fraction = 0.5,\n",
    "        style=\"two-way\"\n",
    "    )\n",
    "    stats = get_statistics(matching_df, truth_df, \"pt\", bins)\n",
    "    return stats\n",
    "\n",
    "for path in tqdm(paths):\n",
    "    event = torch.load(path)\n",
    "    tracks = torch.stack([torch.arange(event.labels.shape[0])[event.labels >= 0], event.labels[event.labels >= 0]])\n",
    "    \n",
    "    stats = evaluate_track(event, tracks)\n",
    "    if all_stats:\n",
    "        for name in all_stats:\n",
    "            all_stats[name].append(stats[name])\n",
    "    else:\n",
    "        for name in stats:\n",
    "            all_stats[name] = [stats[name]]\n",
    "            \n",
    "    hgnn_tracks, hgnn_frac = idealized_hgnn_tracking(event, 5e-3, 0.99, 9, 0.)\n",
    "    stats = evaluate_track(event, hgnn_tracks)\n",
    "    stats[\"size_reduction\"] = hgnn_frac\n",
    "    if hgnn_stats:\n",
    "        for name in hgnn_stats:\n",
    "            hgnn_stats[name].append(stats[name])\n",
    "    else:\n",
    "        for name in stats:\n",
    "            hgnn_stats[name] = [stats[name]]\n",
    "    \n",
    "    damaged_hgnn_tracks, damaged_hgnn_frac = idealized_hgnn_tracking(event, 5e-3, 0.99, 9, 0.1)\n",
    "    stats = evaluate_track(event, damaged_hgnn_tracks)\n",
    "    stats[\"size_reduction\"] = damaged_hgnn_frac\n",
    "    if cut_stats:\n",
    "        for name in cut_stats:\n",
    "            cut_stats[name].append(stats[name])\n",
    "    else:\n",
    "        for name in stats:\n",
    "            cut_stats[name] = [stats[name]]"
   ]
  },
  {
   "cell_type": "code",
   "execution_count": null,
   "id": "7de449b6-a955-4609-b9b3-d2b2e5390eb9",
   "metadata": {
    "tags": []
   },
   "outputs": [],
   "source": [
    "def plot_stats(stat, key, ax, legend):\n",
    "    df = pd.concat(stat[key]).reset_index().groupby(\"bin_id\").agg([\"mean\", \"std\"])\n",
    "    xerr = np.stack([bins[df[key][\"mean\"].index.astype(int)], bins[df[key][\"mean\"].index.astype(int)+1]])\n",
    "    xloc = xerr.mean(0)\n",
    "    xerr = xerr - xloc\n",
    "    xerr[0] = - xerr[0]\n",
    "    yloc = df[key][\"mean\"]\n",
    "    if \"size_reduction\" in stat:\n",
    "        legend = legend + f\", reduced {sum(stat['size_reduction'])/10:.1f}% hits\"\n",
    "    ax.errorbar(xloc, yloc, yerr=None, xerr=xerr, ls=\"\", label = legend)"
   ]
  },
  {
   "cell_type": "code",
   "execution_count": null,
   "id": "fa834fd3-c7ec-4b5f-85ca-024a1e17f376",
   "metadata": {
    "tags": []
   },
   "outputs": [],
   "source": [
    "fig, (ax) = plt.subplots(ncols=1, nrows=1)\n",
    "plot_stats(all_stats, \"tracking_efficiency\", ax, \"walkthrough\")\n",
    "plot_stats(hgnn_stats, \"tracking_efficiency\", ax, \"idealized hgnn\")\n",
    "plot_stats(cut_stats, \"tracking_efficiency\", ax, \"idealized hgnn w/ 0.1 random drop\")\n",
    "ax.legend()\n",
    "ax.set_ylabel(\"Tracking efficiency\")\n",
    "ax.set_xlabel(r\"$p_T$ (MeV)\")\n",
    "ax.set_ylim([0.8, 1.02])\n",
    "ax.grid(which=\"both\")\n",
    "plt.show()\n",
    "fig.savefig(\"/global/homes/r/ryanliu/commonframework/notebooks/figs/track.pdf\")"
   ]
  },
  {
   "cell_type": "code",
   "execution_count": null,
   "id": "5ac2b6bf-afd3-4060-a64a-e71aca543bb5",
   "metadata": {
    "tags": []
   },
   "outputs": [],
   "source": [
    "fig, (ax) = plt.subplots(ncols=1, nrows=1)\n",
    "plot_stats(all_stats, \"signal_efficiency\", ax, \"walkthrough\")\n",
    "plot_stats(hgnn_stats, \"signal_efficiency\", ax, \"idealized hgnn\")\n",
    "plot_stats(cut_stats, \"signal_efficiency\", ax, \"idealized hgnn w/ 0.1 random drop\")\n",
    "ax.legend()\n",
    "ax.set_ylabel(\"Signal efficiency\")\n",
    "ax.set_xlabel(r\"$p_T$ (MeV)\")\n",
    "ax.set_ylim([0.9, 1.02])\n",
    "ax.grid(which=\"both\")\n",
    "plt.show()\n",
    "fig.savefig(\"/global/homes/r/ryanliu/commonframework/notebooks/figs/signal.pdf\")"
   ]
  },
  {
   "cell_type": "markdown",
   "id": "8c515ff7-3909-49bd-879c-9c26ca558e15",
   "metadata": {
    "tags": []
   },
   "source": [
    "## Scipy Tracking"
   ]
  },
  {
   "cell_type": "code",
   "execution_count": 35,
   "id": "059cddfc-1367-4678-a907-e53f6a55bb25",
   "metadata": {
    "tags": []
   },
   "outputs": [
    {
     "name": "stdout",
     "output_type": "stream",
     "text": [
      "CPU times: user 11.1 s, sys: 1.02 s, total: 12.1 s\n",
      "Wall time: 239 ms\n"
     ]
    },
    {
     "data": {
      "text/plain": [
       "{'reconstructed_particles': 1319,\n",
       " 'total_particles': 1547,\n",
       " 'reconstructed_signal': 1129,\n",
       " 'total_signal': 1136,\n",
       " 'num_duplicated_tracks': 70,\n",
       " 'num_matched_particles': 1319,\n",
       " 'duplicate_rate': 0.053070507960576156,\n",
       " 'num_tracks': 1392,\n",
       " 'num_reconstructed_particles': 1319,\n",
       " 'fake_rate': 0.05244252873563282}"
      ]
     },
     "execution_count": 35,
     "metadata": {},
     "output_type": "execute_result"
    }
   ],
   "source": [
    "%%time\n",
    "data = PartialData(event, edge_cut=0.001, loose_cut=0.01, tight_cut=1.0, target_selection={\n",
    "    \"pt\": (\"range\", [500, None]),\n",
    "    \"nhits\": (\"range\", [3, None]),\n",
    "})\n",
    "tight_edges = data.partial_event.edge_index[:, (torch.sigmoid(data.partial_event.output) > 0.9)].numpy()\n",
    "graph = coo_matrix((np.ones(tight_edges.shape[1]), tight_edges), shape = (data.partial_event.hit_id.shape[0], data.partial_event.hit_id.shape[0])).tocsr()\n",
    "_, track_id = connected_components(graph, directed=False)\n",
    "tracks = torch.stack(\n",
    "    [\n",
    "        torch.arange(track_id.shape[0]),\n",
    "        torch.as_tensor(track_id)\n",
    "    ], dim = 0\n",
    ")\n",
    "matching_df, truth_df = evaluate_tracking(\n",
    "    event, \n",
    "    data.get_tracks(tracks),\n",
    "    min_hits = 3,\n",
    "    signal_selection = {\n",
    "        \"pt\": (\"range\", [1000, None]),\n",
    "        \"radius\": (\"range\", [None, None]),\n",
    "        \"eta\": (\"range\", [-4, 4]),\n",
    "        \"primary\": (\"isin\", [1]), \n",
    "        \"nhits\": (\"range\", [7, None]),\n",
    "        \"pdgId\": (\"notin\", [11, -11]),\n",
    "    },\n",
    "    target_selection = {\n",
    "        \"pt\": (\"range\", [1000, None]),\n",
    "        \"nhits\": (\"range\", [3, None]),\n",
    "    },\n",
    "    matching_fraction = 0.5,\n",
    "    style=\"ATLAS\"\n",
    ")\n",
    "get_statistics(matching_df, truth_df)"
   ]
  },
  {
   "cell_type": "code",
   "execution_count": 36,
   "id": "7414cc12-a933-4baf-a18e-0818bcc2c280",
   "metadata": {
    "tags": []
   },
   "outputs": [
    {
     "data": {
      "text/plain": [
       "{'reconstructed_particles': 1288,\n",
       " 'total_particles': 1547,\n",
       " 'reconstructed_signal': 1118,\n",
       " 'total_signal': 1136,\n",
       " 'num_duplicated_tracks': 0,\n",
       " 'num_matched_particles': 1288,\n",
       " 'duplicate_rate': 0.0,\n",
       " 'num_tracks': 1392,\n",
       " 'num_reconstructed_particles': 1288,\n",
       " 'fake_rate': 0.07471264367816155}"
      ]
     },
     "execution_count": 36,
     "metadata": {},
     "output_type": "execute_result"
    }
   ],
   "source": [
    "matching_df, truth_df = evaluate_tracking(\n",
    "    event, \n",
    "    data.get_tracks(tracks),\n",
    "    min_hits = 3,\n",
    "    signal_selection = {\n",
    "        \"pt\": (\"range\", [1000, None]),\n",
    "        \"radius\": (\"range\", [None, None]),\n",
    "        \"eta\": (\"range\", [-4, 4]),\n",
    "        \"primary\": (\"isin\", [1]), \n",
    "        \"nhits\": (\"range\", [7, None]),\n",
    "        \"pdgId\": (\"notin\", [11, -11]),\n",
    "    },\n",
    "    target_selection = {\n",
    "        \"pt\": (\"range\", [1000, None]),\n",
    "        \"nhits\": (\"range\", [3, None]),\n",
    "    },\n",
    "    matching_fraction = 0.5,\n",
    "    style=\"two-way\"\n",
    ")\n",
    "get_statistics(matching_df, truth_df)"
   ]
  },
  {
   "cell_type": "markdown",
   "id": "ec58ee51-7581-474a-957d-393b9d8a4438",
   "metadata": {
    "jp-MarkdownHeadingCollapsed": true,
    "tags": []
   },
   "source": [
    "## Bipartite Matching"
   ]
  },
  {
   "cell_type": "code",
   "execution_count": 60,
   "id": "8f7eec37-3168-4cfe-83bc-a47f2fd28f39",
   "metadata": {
    "tags": []
   },
   "outputs": [],
   "source": [
    "truth_bgraph, truth_info = build_truth_bgraph(\n",
    "    event, \n",
    "    signal_selection = {\n",
    "        \"pt\": (\"range\", [1000, None]),\n",
    "        \"eta\": (\"range\", [-4, 4]),\n",
    "        \"primary\": (\"isin\", [1]), \n",
    "        \"nhits\": (\"range\", [7, None]),\n",
    "        \"pdgId\": (\"notin\", [11, -11]),\n",
    "    },\n",
    "    # target_selection = {\n",
    "    #     \"pt\": (\"range\", [1000, None]),\n",
    "    #     \"nhits\": (\"range\", [3, None]),\n",
    "    # },\n",
    ")\n"
   ]
  },
  {
   "cell_type": "code",
   "execution_count": 61,
   "id": "908344fb-5764-4123-8e3f-b67509091840",
   "metadata": {
    "tags": []
   },
   "outputs": [
    {
     "name": "stdout",
     "output_type": "stream",
     "text": [
      "CPU times: user 705 ms, sys: 21.9 ms, total: 727 ms\n",
      "Wall time: 526 ms\n"
     ]
    }
   ],
   "source": [
    "%%time\n",
    "pred_bgraph, pred_info = build_pred_bgraph(event, tracks, 0)\n",
    "graph = (truth_bgraph.T @ pred_bgraph).tocoo()\n",
    "graph.eliminate_zeros()\n",
    "graph.data = np.square(graph.data) / truth_info[\"nhits\"][graph.row].numpy() / pred_info[\"track_size\"][graph.col].numpy()\n",
    "num_particles, num_tracks = graph.shape\n",
    "graph = coo_matrix(\n",
    "    (np.concatenate([graph.data, 1e-12 * np.ones(num_particles)]),\n",
    "     (\n",
    "         np.concatenate([graph.row, np.arange(num_particles)]),\n",
    "         np.concatenate([graph.col, np.arange(num_particles) + num_tracks]) # include virtual tracks for each particle\n",
    "     )\n",
    "    ),\n",
    "    shape = (num_particles, num_particles + num_tracks)\n",
    ")\n",
    "row, col = min_weight_full_bipartite_matching(graph, maximize = True)\n",
    "row, col = row[col <= num_tracks], col[col <= num_tracks]\n",
    "track_to_particle = - torch.ones(num_tracks, dtype = torch.long)\n",
    "track_to_particle[col] = torch.as_tensor(row)"
   ]
  },
  {
   "cell_type": "code",
   "execution_count": 62,
   "id": "2ed4b9ec-3db0-4340-acc6-580be937af9e",
   "metadata": {
    "tags": []
   },
   "outputs": [
    {
     "name": "stdout",
     "output_type": "stream",
     "text": [
      "CPU times: user 41.8 ms, sys: 13 ms, total: 54.8 ms\n",
      "Wall time: 55.3 ms\n"
     ]
    },
    {
     "data": {
      "text/plain": [
       "1664729"
      ]
     },
     "execution_count": 62,
     "metadata": {},
     "output_type": "execute_result"
    }
   ],
   "source": [
    "%%time\n",
    "skip = (truth_bgraph @ truth_bgraph.T).tocoo()\n",
    "skip.data.size"
   ]
  },
  {
   "cell_type": "code",
   "execution_count": 22,
   "id": "197f97c1-8d27-4a0c-a4b9-8649ca75ba4f",
   "metadata": {
    "tags": []
   },
   "outputs": [
    {
     "name": "stdout",
     "output_type": "stream",
     "text": [
      "CPU times: user 101 ms, sys: 12.5 ms, total: 113 ms\n",
      "Wall time: 56.3 ms\n"
     ]
    }
   ],
   "source": [
    "%%time\n",
    "input_pred_graph = torch.stack([\n",
    "    tracks[0],\n",
    "    track_to_particle[pred_info[\"track_id\"]]\n",
    "], dim = 0)\n",
    "\n",
    "y = torch.zeros(input_pred_graph.shape[1], dtype=torch.bool)\n",
    "y[input_pred_graph[1] >= 0] = 0\n",
    "input_truth_graph = truth_bgraph.tocoo()\n",
    "input_truth_graph = torch.stack([\n",
    "    torch.as_tensor(input_truth_graph.row), \n",
    "    torch.as_tensor(input_truth_graph.col)\n",
    "], dim = 0)\n",
    "\n",
    "y[input_pred_graph[1] >= 0] = graph_intersection(\n",
    "    input_pred_graph[:, input_pred_graph[1] >= 0],\n",
    "    input_truth_graph,\n",
    "    return_pred_to_truth=False,\n",
    "    return_truth_to_pred=False,\n",
    "    unique_pred=True,\n",
    "    unique_truth=True,\n",
    ")\n",
    "\n",
    "weights = torch.ones(input_pred_graph.shape[1], dtype = torch.float)\n",
    "weights[truth_info[\"is_signal\"][input_pred_graph[1]] & (input_pred_graph[1] >= 0)] *= 2\n",
    "weights[~y] /= (weights[~y].sum() * 2)\n",
    "weights[y] /= (weights[y].sum() * 2)"
   ]
  },
  {
   "cell_type": "code",
   "execution_count": 23,
   "id": "279787e5-61e2-4586-b51e-d8605c95c713",
   "metadata": {
    "tags": []
   },
   "outputs": [
    {
     "data": {
      "text/plain": [
       "torch.Size([27978])"
      ]
     },
     "execution_count": 23,
     "metadata": {},
     "output_type": "execute_result"
    }
   ],
   "source": [
    "y.shape"
   ]
  },
  {
   "cell_type": "code",
   "execution_count": 24,
   "id": "52974e09-6f21-49c3-88f5-209fcc98bc66",
   "metadata": {
    "tags": []
   },
   "outputs": [
    {
     "data": {
      "text/plain": [
       "torch.Size([2, 27978])"
      ]
     },
     "execution_count": 24,
     "metadata": {},
     "output_type": "execute_result"
    }
   ],
   "source": [
    "tracks.shape"
   ]
  },
  {
   "cell_type": "code",
   "execution_count": 27,
   "id": "cff011ab-1260-44f9-b45c-e0b66645122f",
   "metadata": {
    "tags": []
   },
   "outputs": [
    {
     "data": {
      "text/plain": [
       "tensor(0.5357)"
      ]
     },
     "execution_count": 27,
     "metadata": {},
     "output_type": "execute_result"
    }
   ],
   "source": [
    "y.sum() / y.shape[0]"
   ]
  },
  {
   "cell_type": "code",
   "execution_count": 26,
   "id": "e5951898-d2d8-4e1b-8a1e-3b2e24606361",
   "metadata": {
    "tags": []
   },
   "outputs": [
    {
     "data": {
      "text/plain": [
       "tensor(1.0000)"
      ]
     },
     "execution_count": 26,
     "metadata": {},
     "output_type": "execute_result"
    }
   ],
   "source": [
    "weights.sum()"
   ]
  },
  {
   "cell_type": "markdown",
   "id": "b576b55d-e723-4f3b-8cf3-2e6d68e83f19",
   "metadata": {
    "tags": []
   },
   "source": [
    "## Partial Data Test"
   ]
  },
  {
   "cell_type": "code",
   "execution_count": 15,
   "id": "ed504467-bd12-4909-8955-c49300c7c4a6",
   "metadata": {
    "tags": []
   },
   "outputs": [
    {
     "name": "stdout",
     "output_type": "stream",
     "text": [
      "CPU times: user 181 ms, sys: 4.53 ms, total: 186 ms\n",
      "Wall time: 93.1 ms\n"
     ]
    },
    {
     "data": {
      "text/plain": [
       "Data(x=[50041], edge_index=[2, 49181], y=[49181], hit_id=[50041], z=[50041], r=[50041], phi=[50041], eta=[50041], dz=[49181], dr=[49181], dphi=[49181], deta=[49181], output=[49181], track_edges=[2, 35817], eta_particle=[35817], radius=[35817], nhits=[35817], particle_id=[35817], pt=[35817], pdgId=[35817], primary=[35817])"
      ]
     },
     "execution_count": 15,
     "metadata": {},
     "output_type": "execute_result"
    }
   ],
   "source": [
    "%%time\n",
    "data = PartialData(event, edge_cut=0.001, loose_cut=0.01, tight_cut=1.0, target_selection={\n",
    "    \"pt\": (\"range\", [500, None]),\n",
    "    \"nhits\": (\"range\", [3, None]),\n",
    "})\n",
    "data.to(\"cuda\").partial_event"
   ]
  },
  {
   "cell_type": "code",
   "execution_count": 16,
   "id": "b7a9a071-8bb6-4055-adc1-b02ce3127032",
   "metadata": {
    "tags": []
   },
   "outputs": [
    {
     "name": "stdout",
     "output_type": "stream",
     "text": [
      "CPU times: user 291 ms, sys: 13.2 ms, total: 304 ms\n",
      "Wall time: 153 ms\n"
     ]
    }
   ],
   "source": [
    "%%time\n",
    "partial_event = data.partial_event\n",
    "tracks = torch.stack(\n",
    "    [\n",
    "        data.partial_event.track_edges.reshape(-1),\n",
    "        data.partial_event.particle_id.repeat(2)\n",
    "    ], dim = 0\n",
    ").unique(dim = 1)\n",
    "y, weights, relavent_mask, truth_bgraph = data.fetch_truth(\n",
    "    tracks,\n",
    "    torch.ones(tracks.shape[1])\n",
    ")"
   ]
  },
  {
   "cell_type": "code",
   "execution_count": 17,
   "id": "bc027b8b-703f-49f0-8554-cb537fc7ac22",
   "metadata": {
    "tags": []
   },
   "outputs": [
    {
     "data": {
      "text/plain": [
       "tensor(0.8070, device='cuda:0')"
      ]
     },
     "execution_count": 17,
     "metadata": {},
     "output_type": "execute_result"
    }
   ],
   "source": [
    "y.sum() / data.truth_info[\"nhits\"].sum()"
   ]
  },
  {
   "cell_type": "code",
   "execution_count": 7,
   "id": "e551b7ee-ee14-45dd-b2d5-d5a85fbb2f8d",
   "metadata": {
    "tags": []
   },
   "outputs": [
    {
     "data": {
      "text/plain": [
       "tensor(True, device='cuda:0')"
      ]
     },
     "execution_count": 7,
     "metadata": {},
     "output_type": "execute_result"
    }
   ],
   "source": [
    "y.all()"
   ]
  },
  {
   "cell_type": "code",
   "execution_count": 20,
   "id": "783ff6f8-42c5-4153-91e8-82d80003986e",
   "metadata": {
    "tags": []
   },
   "outputs": [
    {
     "data": {
      "text/plain": [
       "tensor(13690, device='cuda:0')"
      ]
     },
     "execution_count": 20,
     "metadata": {},
     "output_type": "execute_result"
    }
   ],
   "source": [
    "relavent_mask.sum()"
   ]
  },
  {
   "cell_type": "code",
   "execution_count": 21,
   "id": "5f1b8de7-b15c-49e3-b8e3-7a97f7215406",
   "metadata": {
    "tags": []
   },
   "outputs": [
    {
     "data": {
      "text/plain": [
       "torch.Size([13690])"
      ]
     },
     "execution_count": 21,
     "metadata": {},
     "output_type": "execute_result"
    }
   ],
   "source": [
    "y.shape"
   ]
  },
  {
   "cell_type": "code",
   "execution_count": null,
   "id": "68e2852c-cac1-49e7-b12d-95e6186a5877",
   "metadata": {
    "tags": []
   },
   "outputs": [],
   "source": [
    "all_tracks = data.get_tracks(tracks).cpu()\n",
    "some_tracks = data.get_tracks(tracks[:, y]).cpu()\n",
    "all_tracks.shape, some_tracks.shape"
   ]
  },
  {
   "cell_type": "code",
   "execution_count": null,
   "id": "f3d4784b-052c-4565-b483-5db01903bd9d",
   "metadata": {
    "tags": []
   },
   "outputs": [],
   "source": [
    "%%time\n",
    "matching_df, truth_df = evaluate_tracking(\n",
    "    event, \n",
    "    some_tracks,\n",
    "    min_hits = 5,\n",
    "    signal_selection = {\n",
    "        \"pt\": (\"range\", [1000, None]),\n",
    "        \"radius\": (\"range\", [None, None]),\n",
    "        \"eta\": (\"range\", [-4, 4]),\n",
    "        \"primary\": (\"isin\", [1]), \n",
    "        \"nhits\": (\"range\", [7, None]),\n",
    "        \"pdgId\": (\"notin\", [11, -11]),\n",
    "    },\n",
    "    target_selection = {},\n",
    "    matching_fraction = 0.5,\n",
    "    style=\"two-way\"\n",
    ")\n",
    "get_statistics(matching_df, truth_df)"
   ]
  },
  {
   "cell_type": "markdown",
   "id": "412e4b2e-cfa0-435e-8bd3-fb470f683665",
   "metadata": {
    "tags": []
   },
   "source": [
    "## Preconstruct BGraph"
   ]
  },
  {
   "cell_type": "code",
   "execution_count": 76,
   "id": "6a4559c3-81e3-4024-a7d3-475f96e18203",
   "metadata": {
    "tags": []
   },
   "outputs": [
    {
     "name": "stdout",
     "output_type": "stream",
     "text": [
      "CPU times: user 176 ms, sys: 12.4 ms, total: 189 ms\n",
      "Wall time: 94.7 ms\n"
     ]
    }
   ],
   "source": [
    "%%time\n",
    "data = PartialData(event, edge_cut=0.001, loose_cut=0.005, tight_cut=0.99, random_drop = 0.1)"
   ]
  },
  {
   "cell_type": "code",
   "execution_count": 77,
   "id": "e23f8261-d777-4590-8174-5a21c90ee485",
   "metadata": {
    "tags": []
   },
   "outputs": [
    {
     "data": {
      "image/png": "[encoded data removed]",
      "text/plain": [
       "<Figure size 640x480 with 1 Axes>"
      ]
     },
     "metadata": {},
     "output_type": "display_data"
    }
   ],
   "source": [
    "plt.hist(np.unique(track_id, return_counts = True)[1], bins = np.arange(40))\n",
    "plt.show()"
   ]
  },
  {
   "cell_type": "code",
   "execution_count": 92,
   "id": "31d07aeb-5325-4857-ac6b-434bd1705367",
   "metadata": {
    "tags": []
   },
   "outputs": [],
   "source": [
    "tight_edges = data.partial_event.edge_index[:, (torch.sigmoid(data.partial_event.output) > data.loose_cut)].numpy()\n",
    "graph = coo_matrix((np.ones(tight_edges.shape[1]), tight_edges), shape = (data.partial_event.hit_id.shape[0], data.partial_event.hit_id.shape[0])).tocsr()\n",
    "_, track_id = connected_components(graph, directed=False)\n",
    "tracks = torch.stack(\n",
    "    [\n",
    "        torch.arange(track_id.shape[0]),\n",
    "        torch.as_tensor(track_id)\n",
    "    ], dim = 0\n",
    ")\n",
    "track_graph = torch.as_tensor(track_id)[data.partial_event.edge_index]\n",
    "num_tracks = track_id.max() + 1\n",
    "track_graph = coo_matrix(\n",
    "    (\n",
    "        np.ones(track_graph.shape[1]),\n",
    "        track_graph.numpy()\n",
    "    ),\n",
    "    shape = (num_tracks, num_tracks)\n",
    ").tocsr()\n",
    "track_graph = ((track_graph + track_graph.T) > 0).astype(float)\n",
    "bgraph, pred_info = build_pred_bgraph(data.partial_event, tracks, 0)"
   ]
  },
  {
   "cell_type": "code",
   "execution_count": 89,
   "id": "6d876162-6883-41c5-bf85-d042c76827e5",
   "metadata": {
    "tags": []
   },
   "outputs": [],
   "source": [
    "bgraph = bgraph @ track_graph"
   ]
  },
  {
   "cell_type": "code",
   "execution_count": 93,
   "id": "b7d1e284-8bb5-473a-9989-213dd5621e53",
   "metadata": {
    "tags": []
   },
   "outputs": [],
   "source": [
    "bgraph = bgraph.tocoo()\n",
    "partial_event = data.partial_event\n",
    "tracks = torch.stack([torch.as_tensor(bgraph.row), torch.as_tensor(bgraph.col)], dim = 0).long()\n",
    "y, weights = data.fetch_truth(\n",
    "    tracks,\n",
    "    torch.ones(tracks.shape[1])\n",
    ")\n",
    "some_tracks = data.get_tracks(tracks[:, y]).cpu()"
   ]
  },
  {
   "cell_type": "code",
   "execution_count": 94,
   "id": "95e95468-1199-427a-b006-1dc9acdfb7f9",
   "metadata": {
    "tags": []
   },
   "outputs": [
    {
     "name": "stdout",
     "output_type": "stream",
     "text": [
      "CPU times: user 194 ms, sys: 7.22 ms, total: 202 ms\n",
      "Wall time: 101 ms\n"
     ]
    },
    {
     "data": {
      "text/plain": [
       "{'reconstructed_particles': 2032,\n",
       " 'total_particles': 14878,\n",
       " 'reconstructed_signal': 927,\n",
       " 'total_signal': 1136,\n",
       " 'num_duplicated_tracks': 0,\n",
       " 'num_matched_particles': 2032,\n",
       " 'duplicate_rate': 0.0,\n",
       " 'num_tracks': 2682,\n",
       " 'num_reconstructed_particles': 2032,\n",
       " 'fake_rate': 0.24235645041014164}"
      ]
     },
     "execution_count": 94,
     "metadata": {},
     "output_type": "execute_result"
    }
   ],
   "source": [
    "%%time\n",
    "matching_df, truth_df = evaluate_tracking(\n",
    "    event, \n",
    "    some_tracks,\n",
    "    min_hits = 5,\n",
    "    signal_selection = {\n",
    "        \"pt\": (\"range\", [1000, None]),\n",
    "        \"radius\": (\"range\", [None, None]),\n",
    "        \"eta\": (\"range\", [-4, 4]),\n",
    "        \"primary\": (\"isin\", [1]), \n",
    "        \"nhits\": (\"range\", [7, None]),\n",
    "        \"pdgId\": (\"notin\", [11, -11]),\n",
    "    },\n",
    "    target_selection = {},\n",
    "    matching_fraction = 0.5,\n",
    "    style=\"two-way\"\n",
    ")\n",
    "get_statistics(matching_df, truth_df)"
   ]
  },
  {
   "cell_type": "markdown",
   "id": "e603b870-aaad-4c2c-9e57-b252ce17ed25",
   "metadata": {
    "jp-MarkdownHeadingCollapsed": true,
    "tags": []
   },
   "source": [
    "## Hierarchical GNN"
   ]
  },
  {
   "cell_type": "code",
   "execution_count": 15,
   "id": "c8e3b6a0-2870-491e-afba-53f106d2b96f",
   "metadata": {
    "tags": []
   },
   "outputs": [],
   "source": [
    "with open(\"/global/homes/r/ryanliu/commonframework/examples/Example_hgnn/track_building_train.yaml\") as f:\n",
    "    hparams = yaml.safe_load(f)\n",
    "    \n",
    "model_config = hparams[\"model_config\"]\n",
    "from gnn4itk_cf.stages.track_building.models.gnn_modules.hgnn_models import Pooling, InteractionGNNBlock, HierarchicalGNNBlock"
   ]
  },
  {
   "cell_type": "code",
   "execution_count": 16,
   "id": "7f80ea66-8008-4d8e-8850-d6e84a0b274c",
   "metadata": {
    "tags": []
   },
   "outputs": [],
   "source": [
    "data = PartialData(event, edge_cut=1e-3, loose_cut=2e-3, tight_cut=0.99).to(\"cuda\")\n",
    "graph = torch.cat([data.partial_event.edge_index, data.partial_event.edge_index.flip(0)], dim=1)\n",
    "node_attr = torch.stack([data.partial_event.z, data.partial_event.r, data.partial_event.phi], dim = 1).float()"
   ]
  },
  {
   "cell_type": "code",
   "execution_count": 17,
   "id": "57e4597d-5f60-47ac-b899-5ceee4c1ea32",
   "metadata": {
    "tags": []
   },
   "outputs": [],
   "source": [
    "interaction_layer = InteractionGNNBlock(\n",
    "    d_model = model_config[\"d_model\"],\n",
    "    n_node_features = len(hparams[\"node_features\"]),\n",
    "    n_node_layers = model_config[\"n_node_layers\"],\n",
    "    n_edge_layers = model_config[\"n_edge_layers\"],\n",
    "    n_iterations = model_config[\"n_interaction_iterations\"],\n",
    "    hidden_activation = model_config[\"hidden_activation\"],\n",
    "    output_activation = model_config[\"output_activation\"],\n",
    "    dropout = model_config[\"dropout\"],\n",
    ").cuda()\n",
    "pooling_layer = Pooling(\n",
    "    d_model=model_config[\"d_model\"],\n",
    "    emb_size=model_config[\"emb_size\"],\n",
    "    n_output_layers=model_config[\"n_output_layers\"],\n",
    "    hidden_activation = model_config[\"hidden_activation\"],\n",
    "    output_activation = model_config[\"output_activation\"],\n",
    "    dropout = model_config[\"dropout\"],\n",
    "    momentum = model_config[\"cut_momentum\"],\n",
    "    bsparsity = model_config[\"bsparsity\"],\n",
    "    ssparsity = model_config[\"ssparsity\"],\n",
    "    resolution = model_config[\"resolution\"],\n",
    "    min_size = model_config[\"min_size\"], \n",
    ").cuda()\n",
    "hgnn_layer = HierarchicalGNNBlock(\n",
    "    d_model = model_config[\"d_model\"],\n",
    "    emb_size =  model_config[\"emb_size\"],\n",
    "    n_node_layers =  model_config[\"n_node_layers\"],\n",
    "    n_edge_layers =  model_config[\"n_edge_layers\"],\n",
    "    n_output_layers = model_config[\"n_output_layers\"],\n",
    "    n_iterations =  model_config[\"n_hierarchical_iterations\"],\n",
    "    hidden_activation =  model_config[\"hidden_activation\"],\n",
    "    output_activation =  model_config[\"output_activation\"],\n",
    "    dropout =  model_config[\"dropout\"],\n",
    ").cuda()"
   ]
  },
  {
   "cell_type": "code",
   "execution_count": 18,
   "id": "7d993560-d60e-4d0a-b36c-90efce53b329",
   "metadata": {
    "tags": []
   },
   "outputs": [],
   "source": [
    "nodes, edges = interaction_layer(node_attr, graph)\n",
    "emb, semb, bgraph, bweights, sgraph, sweights, emb_logits = pooling_layer(nodes, graph)\n",
    "logits = hgnn_layer(nodes, edges, semb, graph, bgraph, bweights, sgraph, sweights)"
   ]
  },
  {
   "cell_type": "code",
   "execution_count": null,
   "id": "6048b7f8-2b65-4425-9fba-6d4e59718878",
   "metadata": {},
   "outputs": [],
   "source": []
  }
 ],
 "metadata": {
  "kernelspec": {
   "display_name": "CommonCodeFramework",
   "language": "python",
   "name": "gnn4itk"
  },
  "language_info": {
   "codemirror_mode": {
    "name": "ipython",
    "version": 3
   },
   "file_extension": ".py",
   "mimetype": "text/x-python",
   "name": "python",
   "nbconvert_exporter": "python",
   "pygments_lexer": "ipython3",
   "version": "3.9.15"
  }
 },
 "nbformat": 4,
 "nbformat_minor": 5
}
