{
 "cells": [
  {
   "cell_type": "code",
   "execution_count": 1,
   "metadata": {},
   "outputs": [],
   "source": [
    "%load_ext autoreload\n",
    "%autoreload 2"
   ]
  },
  {
   "cell_type": "code",
   "execution_count": 2,
   "metadata": {},
   "outputs": [
    {
     "name": "stderr",
     "output_type": "stream",
     "text": [
      "WARNING:root:FRNN is available\n"
     ]
    }
   ],
   "source": [
    "import torch\n",
    "import yaml\n",
    "\n",
    "from torch_geometric.data import Data\n",
    "\n",
    "from acorn.stages.edge_classifier import InteractionGNN2\n",
    "from acorn.stages.edge_classifier import RecurrentInteractionGNN2, ChainedInteractionGNN2\n",
    "from acorn.utils import handle_edge_features\n",
    "\n"
   ]
  },
  {
   "cell_type": "code",
   "execution_count": 3,
   "metadata": {},
   "outputs": [],
   "source": [
    "model_config_file = \"../examples/CTD_2023/gnn_train.yaml\"\n",
    "with open(model_config_file, \"r\") as f:\n",
    "    model_config = yaml.safe_load(f)"
   ]
  },
  {
   "cell_type": "code",
   "execution_count": 4,
   "metadata": {},
   "outputs": [],
   "source": [
    "gnnModel = InteractionGNN2(model_config)"
   ]
  },
  {
   "cell_type": "code",
   "execution_count": 5,
   "metadata": {},
   "outputs": [],
   "source": [
    "filename = \"/pscratch/sd/x/xju/ITk/ForFinalPaper/CHEP2024_data_allITk/metric_learning_v3/trainset/event000000027.pyg\"\n",
    "data = torch.load(filename, map_location=torch.device('cpu'))\n",
    "handle_edge_features(data, model_config[\"edge_features\"])"
   ]
  },
  {
   "cell_type": "code",
   "execution_count": 8,
   "metadata": {},
   "outputs": [],
   "source": [
    "reduced_num_edges = 1000\n",
    "data[\"edge_index\"] = data.edge_index[:, :reduced_num_edges]\n",
    "for key in model_config[\"edge_features\"]:\n",
    "    data[key] = data[key][:reduced_num_edges]"
   ]
  },
  {
   "cell_type": "code",
   "execution_count": 10,
   "metadata": {},
   "outputs": [
    {
     "name": "stdout",
     "output_type": "stream",
     "text": [
      "torch.Size([1000])\n"
     ]
    }
   ],
   "source": [
    "with torch.no_grad():\n",
    "    output = gnnModel(data)\n",
    "    print(output.shape)"
   ]
  },
  {
   "cell_type": "code",
   "execution_count": 15,
   "metadata": {},
   "outputs": [],
   "source": [
    "node_features = torch.stack([data[feature] for feature in model_config[\"node_features\"]], dim=-1).float()\n",
    "mask =  torch.logical_or(data.region == 2, data.region == 6).reshape(-1)\n",
    "node_features[mask] = torch.cat([node_features[mask, 0:4], node_features[mask, 0:4], node_features[mask, 0:4]], dim=1)\n",
    "\n",
    "edge_attr = torch.stack([data[feature] for feature in model_config[\"edge_features\"]], dim=-1).float()\n",
    "edge_index = data.edge_index\n",
    "input_data = [node_features, edge_index, edge_attr]"
   ]
  },
  {
   "cell_type": "code",
   "execution_count": 13,
   "metadata": {},
   "outputs": [
    {
     "name": "stdout",
     "output_type": "stream",
     "text": [
      "is recurrent: False\n"
     ]
    }
   ],
   "source": [
    "is_recurrent = model_config[\"node_net_recurrent\"] and model_config[\"edge_net_recurrent\"]\n",
    "print(f\"Is recurrent: {is_recurrent}\")"
   ]
  },
  {
   "cell_type": "code",
   "execution_count": 16,
   "metadata": {},
   "outputs": [],
   "source": [
    "if is_recurrent:\n",
    "    new_gnn = RecurrentInteractionGNN2(model_config)\n",
    "else:\n",
    "    new_gnn = ChainedInteractionGNN2(model_config)"
   ]
  },
  {
   "cell_type": "code",
   "execution_count": 19,
   "metadata": {},
   "outputs": [
    {
     "data": {
      "text/plain": [
       "<All keys matched successfully>"
      ]
     },
     "execution_count": 19,
     "metadata": {},
     "output_type": "execute_result"
    }
   ],
   "source": [
    "# copy the weights from the original model to the new model\n",
    "new_gnn.load_state_dict(gnnModel.state_dict())"
   ]
  },
  {
   "cell_type": "code",
   "execution_count": 23,
   "metadata": {},
   "outputs": [],
   "source": [
    "input_data = [node_features, edge_index, edge_attr]"
   ]
  },
  {
   "cell_type": "code",
   "execution_count": 20,
   "metadata": {},
   "outputs": [],
   "source": [
    "with torch.no_grad():\n",
    "    new_output = new_gnn(*input_data)\n",
    "assert new_output.equal(output)"
   ]
  },
  {
   "cell_type": "code",
   "execution_count": 24,
   "metadata": {},
   "outputs": [],
   "source": [
    "with torch.jit.optimized_execution(True):\n",
    "    script = new_gnn.to_torchscript(example_inputs=[input_data])\n",
    "\n",
    "with torch.no_grad():\n",
    "    script_output = script(*input_data)\n",
    "torch.jit.freeze(script)\n",
    "assert script_output.equal(output)"
   ]
  },
  {
   "cell_type": "code",
   "execution_count": 26,
   "metadata": {},
   "outputs": [
    {
     "name": "stdout",
     "output_type": "stream",
     "text": [
      "Saving model to test_gnn_model.pt\n",
      "Done saving model to test_gnn_model.pt\n"
     ]
    }
   ],
   "source": [
    "torch_script_path = \"test_gnn_model.pt\"\n",
    "print(f\"Saving model to {torch_script_path}\")\n",
    "torch.jit.save(script, torch_script_path)\n",
    "print(f\"Done saving model to {torch_script_path}\")"
   ]
  }
 ],
 "metadata": {
  "kernelspec": {
   "display_name": ".venv",
   "language": "python",
   "name": "python3"
  },
  "language_info": {
   "codemirror_mode": {
    "name": "ipython",
    "version": 3
   },
   "file_extension": ".py",
   "mimetype": "text/x-python",
   "name": "python",
   "nbconvert_exporter": "python",
   "pygments_lexer": "ipython3",
   "version": "3.10.13"
  }
 },
 "nbformat": 4,
 "nbformat_minor": 2
}
